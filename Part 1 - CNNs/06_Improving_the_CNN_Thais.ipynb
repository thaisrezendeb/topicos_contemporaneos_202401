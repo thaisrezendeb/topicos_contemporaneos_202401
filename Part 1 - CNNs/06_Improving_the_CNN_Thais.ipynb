{
  "cells": [
    {
      "cell_type": "code",
      "execution_count": 1,
      "metadata": {
        "id": "7XzrTkmb4FSy"
      },
      "outputs": [],
      "source": [
        "# Importando as bibliotecas necessárias\n",
        "import torch\n",
        "import torch.nn as nn\n",
        "import torch.optim as optim\n",
        "import torch.nn.functional as F\n",
        "from torch.utils.data import Dataset, DataLoader, Subset\n",
        "import torchvision\n",
        "import torchvision.transforms as transforms\n",
        "import matplotlib.pyplot as plt\n",
        "import numpy as np\n",
        "import pandas as pd\n",
        "from tqdm import tqdm"
      ]
    },
    {
      "cell_type": "code",
      "execution_count": 2,
      "metadata": {
        "id": "w7fSdc3C4FS3",
        "colab": {
          "base_uri": "https://localhost:8080/"
        },
        "outputId": "044ee056-bee5-4bb8-b9ea-6c2e9a8c9671"
      },
      "outputs": [
        {
          "output_type": "stream",
          "name": "stdout",
          "text": [
            "--2024-12-07 20:48:59--  https://pjreddie.com/media/files/mnist_train.csv\n",
            "Resolving pjreddie.com (pjreddie.com)... 162.0.215.52\n",
            "Connecting to pjreddie.com (pjreddie.com)|162.0.215.52|:443... connected.\n",
            "HTTP request sent, awaiting response... 200 OK\n",
            "Length: 109575994 (104M) [text/csv]\n",
            "Saving to: ‘data/mnist_train.csv’\n",
            "\n",
            "mnist_train.csv     100%[===================>] 104.50M  13.3MB/s    in 9.2s    \n",
            "\n",
            "2024-12-07 20:49:09 (11.4 MB/s) - ‘data/mnist_train.csv’ saved [109575994/109575994]\n",
            "\n"
          ]
        }
      ],
      "source": [
        "# Download do dataset MNIST into data dir\n",
        "! wget https://pjreddie.com/media/files/mnist_train.csv -P data"
      ]
    },
    {
      "cell_type": "code",
      "execution_count": 3,
      "metadata": {
        "id": "69Ow8r634FS6"
      },
      "outputs": [],
      "source": [
        "class MNISTDataset(Dataset):\n",
        "    def __init__(self, csv_file, transform=None):\n",
        "        self.data = pd.read_csv(csv_file, header=None)\n",
        "        self.transform = transform\n",
        "\n",
        "    def __len__(self):\n",
        "        return len(self.data)\n",
        "\n",
        "    def __getitem__(self, idx):\n",
        "        # A primeira coluna é o rótulo\n",
        "        label = self.data.iloc[idx, 0]\n",
        "        # As demais colunas são os pixels da imagem\n",
        "        image = self.data.iloc[idx, 1:].values.astype('uint8').reshape(28, 28)\n",
        "\n",
        "        if self.transform:\n",
        "            image = self.transform(image)\n",
        "\n",
        "        return image, label"
      ]
    },
    {
      "cell_type": "code",
      "execution_count": 4,
      "metadata": {
        "id": "zrIwSxOY4FS8"
      },
      "outputs": [],
      "source": [
        "# Transformação para converter a imagem para tensor\n",
        "transform = transforms.Compose([\n",
        "    transforms.ToTensor(),      # Convertendo a imagem PIL para tensor\n",
        "    transforms.Normalize((0.5,), (0.5,))  # Normalizando a imagem\n",
        "])\n",
        "\n",
        "# Criando o dataset\n",
        "mnist_dataset = MNISTDataset(\"./data/mnist_train.csv\", transform=transform)\n",
        "\n",
        "# Transformação para converter a imagem para tensor\n",
        "transform = transforms.Compose([\n",
        "    transforms.ToPILImage(),    # Convertendo o array numpy para imagem PIL\n",
        "    transforms.ToTensor(),      # Convertendo a imagem PIL para tensor\n",
        "    transforms.Normalize((0.5,), (0.5,))  # Normalizando a imagem\n",
        "])\n",
        "\n",
        "# Criando o dataset\n",
        "mnist_dataset = MNISTDataset(\"./data/mnist_train.csv\", transform=transform)"
      ]
    },
    {
      "cell_type": "code",
      "execution_count": 5,
      "metadata": {
        "id": "8DtIsAa14FS-"
      },
      "outputs": [],
      "source": [
        "# Criando índices aleatórios para os subsets de treino e teste\n",
        "np.random.seed(42)\n",
        "indices = np.arange(len(mnist_dataset))\n",
        "np.random.shuffle(indices)\n",
        "\n",
        "# Dividindo os índices em trainset e testset\n",
        "num_train = 1000\n",
        "num_val = 500\n",
        "num_test = 500\n",
        "train_indices = indices[:num_train]  # Primeiros 1.000 índices para o trainset\n",
        "val_indices = indices[num_train:num_train+num_val]  # Próximos 500 índices para o valset\n",
        "test_indices = indices[num_train+num_val:num_train+num_val+num_test]  # Mais 500 para o testset\n",
        "\n",
        "trainset = Subset(mnist_dataset, train_indices)\n",
        "valset = Subset(mnist_dataset, val_indices)\n",
        "testset = Subset(mnist_dataset, test_indices)\n",
        "\n",
        "# Criando DataLoaders para os subsets\n",
        "trainloader = DataLoader(trainset, batch_size=64, shuffle=True)\n",
        "valloader = DataLoader(valset, batch_size=64, shuffle=False)\n",
        "testloader = DataLoader(testset, batch_size=64, shuffle=False)"
      ]
    },
    {
      "cell_type": "code",
      "execution_count": 6,
      "metadata": {
        "id": "PoMqHfHO4FTA"
      },
      "outputs": [],
      "source": [
        "def train_model(model, trainloader, valloader, criterion, optimizer, num_epochs=5):\n",
        "    history = {\n",
        "        'train_losses': [],\n",
        "        'val_losses': [],\n",
        "        'train_accuracies': [],\n",
        "        'val_accuracies': []\n",
        "    }\n",
        "\n",
        "    for epoch in range(num_epochs):\n",
        "        # Treinamento\n",
        "        model.train()\n",
        "        running_loss = 0.0\n",
        "        correct = 0\n",
        "        total = 0\n",
        "        for i, data in tqdm(enumerate(trainloader, 0), total=len(trainloader)):\n",
        "            inputs, labels = data\n",
        "\n",
        "            optimizer.zero_grad()\n",
        "\n",
        "            outputs = model(inputs)\n",
        "            loss = criterion(outputs, labels)\n",
        "            loss.backward()\n",
        "            optimizer.step()\n",
        "\n",
        "            running_loss += loss.item()\n",
        "            _, predicted = torch.max(outputs.data, 1)\n",
        "            total += labels.size(0)\n",
        "            correct += (predicted == labels).sum().item()\n",
        "\n",
        "        train_loss = running_loss / len(trainloader)\n",
        "        train_acc = 100 * correct / total\n",
        "        history['train_losses'].append(train_loss)\n",
        "        history['train_accuracies'].append(train_acc)\n",
        "        print(f'Epoch {epoch+1}, Train Loss: {train_loss:.3f}, Train Accuracy: {train_acc:.2f}%')\n",
        "\n",
        "        # Validação\n",
        "        model.eval()\n",
        "        val_running_loss = 0.0\n",
        "        correct = 0\n",
        "        total = 0\n",
        "        with torch.no_grad():\n",
        "            for data in valloader:\n",
        "                inputs, labels = data\n",
        "                outputs = model(inputs)\n",
        "                loss = criterion(outputs, labels)\n",
        "                val_running_loss += loss.item()\n",
        "                _, predicted = torch.max(outputs.data, 1)\n",
        "                total += labels.size(0)\n",
        "                correct += (predicted == labels).sum().item()\n",
        "\n",
        "        val_loss = val_running_loss / len(valloader)\n",
        "        val_acc = 100 * correct / total\n",
        "        history['val_losses'].append(val_loss)\n",
        "        history['val_accuracies'].append(val_acc)\n",
        "        print(f'Epoch {epoch+1}, Val Loss: {val_loss:.3f}, Val Accuracy: {val_acc:.2f}%')\n",
        "\n",
        "    print('Treinamento concluído')\n",
        "    return history\n",
        "\n",
        "\n",
        "def test_model(model, testloader):\n",
        "    correct = 0\n",
        "    total = 0\n",
        "    with torch.no_grad():\n",
        "        for data in testloader:\n",
        "            images, labels = data\n",
        "            outputs = model(images)\n",
        "            _, predicted = torch.max(outputs.data, 1)\n",
        "            total += labels.size(0)\n",
        "            correct += (predicted == labels).sum().item()\n",
        "\n",
        "    print(f'Acurácia da rede na base de teste: {100 * correct / total:.2f}%')"
      ]
    },
    {
      "cell_type": "code",
      "execution_count": 24,
      "metadata": {
        "id": "VG9yXYd74FTC"
      },
      "outputs": [],
      "source": [
        "class CNN(nn.Module):\n",
        "    def __init__(self, initialize_weights=True, dropout=0.2, num_filters_conv1=6, num_filters_conv2=12, n_hidden=64):\n",
        "        super(CNN, self).__init__()\n",
        "        self.num_filters_conv2 = num_filters_conv2\n",
        "        self.conv1 = nn.Conv2d(1, num_filters_conv1, 5)\n",
        "        self.conv2 = nn.Conv2d(num_filters_conv1, num_filters_conv2, 5)\n",
        "        self.fc1 = nn.Linear(num_filters_conv2 * 4 * 4, n_hidden)\n",
        "        self.fc2 = nn.Linear(n_hidden, 10)\n",
        "        self.dropout = nn.Dropout(dropout)\n",
        "\n",
        "        if initialize_weights:\n",
        "            self._initialize_weights()\n",
        "\n",
        "    def forward(self, x):\n",
        "        # CNN\n",
        "        x = F.relu(self.conv1(x))\n",
        "        x = F.max_pool2d(x, 2, 2)\n",
        "        x = F.relu(self.conv2(x))\n",
        "        x = F.max_pool2d(x, 2, 2)\n",
        "\n",
        "        # Flatten\n",
        "        x = x.view(-1, self.num_filters_conv2 * 4 * 4)\n",
        "        x = self.dropout(F.relu(self.fc1(x)))\n",
        "        x = self.fc2(x)\n",
        "\n",
        "        return x\n",
        "\n",
        "    def _initialize_weights(self):\n",
        "        for m in self.modules():\n",
        "            if isinstance(m, nn.Conv2d) or isinstance(m, nn.Linear):\n",
        "                nn.init.xavier_normal_(m.weight)\n",
        "                if m.bias is not None:\n",
        "                    nn.init.constant_(m.bias, 0)"
      ]
    },
    {
      "cell_type": "code",
      "execution_count": 8,
      "metadata": {
        "id": "BIQfDhW44FTE"
      },
      "outputs": [],
      "source": [
        "model = CNN(\n",
        "    initialize_weights=True,\n",
        "    dropout=0.2\n",
        ")"
      ]
    },
    {
      "cell_type": "code",
      "execution_count": 9,
      "metadata": {
        "id": "inoVIU9E4FTG"
      },
      "outputs": [],
      "source": [
        "criterion = nn.CrossEntropyLoss()\n",
        "optimizer = optim.SGD(model.parameters(), lr=0.01, momentum=0.9)"
      ]
    },
    {
      "cell_type": "code",
      "execution_count": 10,
      "metadata": {
        "id": "rWsw3snG4FTH",
        "colab": {
          "base_uri": "https://localhost:8080/"
        },
        "outputId": "7afbddf7-dbbc-423e-aab9-651a5ffe002d"
      },
      "outputs": [
        {
          "output_type": "stream",
          "name": "stderr",
          "text": [
            "100%|██████████| 16/16 [00:00<00:00, 19.71it/s]\n"
          ]
        },
        {
          "output_type": "stream",
          "name": "stdout",
          "text": [
            "Epoch 1, Train Loss: 2.301, Train Accuracy: 15.00%\n",
            "Epoch 1, Val Loss: 2.233, Val Accuracy: 26.00%\n"
          ]
        },
        {
          "output_type": "stream",
          "name": "stderr",
          "text": [
            "100%|██████████| 16/16 [00:00<00:00, 29.57it/s]\n"
          ]
        },
        {
          "output_type": "stream",
          "name": "stdout",
          "text": [
            "Epoch 2, Train Loss: 2.140, Train Accuracy: 28.70%\n",
            "Epoch 2, Val Loss: 1.950, Val Accuracy: 43.00%\n"
          ]
        },
        {
          "output_type": "stream",
          "name": "stderr",
          "text": [
            "100%|██████████| 16/16 [00:00<00:00, 29.78it/s]\n"
          ]
        },
        {
          "output_type": "stream",
          "name": "stdout",
          "text": [
            "Epoch 3, Train Loss: 1.585, Train Accuracy: 50.70%\n",
            "Epoch 3, Val Loss: 0.932, Val Accuracy: 75.40%\n"
          ]
        },
        {
          "output_type": "stream",
          "name": "stderr",
          "text": [
            "100%|██████████| 16/16 [00:00<00:00, 30.05it/s]\n"
          ]
        },
        {
          "output_type": "stream",
          "name": "stdout",
          "text": [
            "Epoch 4, Train Loss: 0.851, Train Accuracy: 73.00%\n",
            "Epoch 4, Val Loss: 0.510, Val Accuracy: 85.40%\n"
          ]
        },
        {
          "output_type": "stream",
          "name": "stderr",
          "text": [
            "100%|██████████| 16/16 [00:00<00:00, 29.83it/s]\n"
          ]
        },
        {
          "output_type": "stream",
          "name": "stdout",
          "text": [
            "Epoch 5, Train Loss: 0.530, Train Accuracy: 83.50%\n",
            "Epoch 5, Val Loss: 0.459, Val Accuracy: 85.80%\n",
            "Treinamento concluído\n"
          ]
        }
      ],
      "source": [
        "# Treinando a CNN\n",
        "history = train_model(\n",
        "    model=model,\n",
        "    trainloader=trainloader,\n",
        "    valloader=valloader,\n",
        "    criterion=criterion,\n",
        "    optimizer=optimizer\n",
        ")"
      ]
    },
    {
      "cell_type": "code",
      "execution_count": 21,
      "metadata": {
        "id": "vRjeryCm4FTJ",
        "colab": {
          "base_uri": "https://localhost:8080/",
          "height": 407
        },
        "outputId": "9de8d0ef-c574-41d1-c6fd-dc67355d9b66"
      },
      "outputs": [
        {
          "output_type": "display_data",
          "data": {
            "text/plain": [
              "<Figure size 1000x400 with 2 Axes>"
            ],
            "image/png": "[encoded data removed]"
          },
          "metadata": {}
        }
      ],
      "source": [
        "epochs = range(1, len(history['train_losses']) + 1)\n",
        "\n",
        "# Plot de losses\n",
        "plt.figure(figsize=(10, 4))\n",
        "\n",
        "plt.subplot(1, 2, 1)\n",
        "plt.grid()\n",
        "plt.plot(epochs, history['train_losses'], label='Train Loss')\n",
        "plt.plot(epochs, history['val_losses'], label='Validation Loss')\n",
        "plt.xlabel('Epochs')\n",
        "plt.ylabel('Loss')\n",
        "plt.title('Training and Validation Loss')\n",
        "plt.legend()\n",
        "\n",
        "# Plot de accuracies\n",
        "plt.subplot(1, 2, 2)\n",
        "plt.grid()\n",
        "plt.plot(epochs, history['train_accuracies'], label='Train Accuracy')\n",
        "plt.plot(epochs, history['val_accuracies'], label='Validation Accuracy')\n",
        "plt.xlabel('Epochs')\n",
        "plt.ylabel('Accuracy')\n",
        "plt.title('Training and Validation Accuracy')\n",
        "plt.legend()\n",
        "\n",
        "plt.tight_layout()\n",
        "plt.show()"
      ]
    },
    {
      "cell_type": "code",
      "execution_count": 12,
      "metadata": {
        "id": "gZbQjU2k4FTK",
        "colab": {
          "base_uri": "https://localhost:8080/"
        },
        "outputId": "3f13448e-e0bd-4f20-ca94-ad5075bc57a4"
      },
      "outputs": [
        {
          "output_type": "stream",
          "name": "stdout",
          "text": [
            "Acurácia da rede na base de teste: 87.80%\n"
          ]
        }
      ],
      "source": [
        "test_model(model, testloader)"
      ]
    },
    {
      "cell_type": "markdown",
      "metadata": {
        "id": "IbKfoPgs4FTL"
      },
      "source": [
        "## Exercícios"
      ]
    },
    {
      "cell_type": "markdown",
      "metadata": {
        "id": "bHPJHg0v4FTN"
      },
      "source": [
        "### Exercício 1\n",
        "Na CNN implementada, execute experimentos variando:\n",
        "- O número de filtros convolucionais em `self.conv1` (6 e 8)\n",
        "- O número de filtros convolucionais em `self.conv2` (12 e 16)\n",
        "\n",
        "Ao final, observe qual combinação desempenha melhor no conjunto de testes.\n",
        "\n",
        "Dica: Adicionar argumentos no construtor da classe para determinar o número de filtros em cada camada pode ser útil para inicializar diversos modelos."
      ]
    },
    {
      "cell_type": "code",
      "source": [
        "# Processo semelhante ao Grid Search\n",
        "param_combinations = [\n",
        "    (6, 12),\n",
        "    (6, 16),\n",
        "    (8, 12),\n",
        "    (8, 16)\n",
        "]\n",
        "\n",
        "for nfc1, nfc2 in param_combinations:\n",
        "    print(f'Número de filtros em conv1: {nfc1} e conv2: {nfc2}')\n",
        "    model = CNN(initialize_weights=True,\n",
        "                dropout=0.2,\n",
        "                num_filters_conv1=nfc1,\n",
        "                num_filters_conv2=nfc2)\n",
        "    criterion = nn.CrossEntropyLoss()\n",
        "    optimizer = optim.SGD(model.parameters(), lr=0.01, momentum=0.9)\n",
        "    history = train_model(model, trainloader, valloader, criterion, optimizer)\n",
        "    test_model(model, testloader)\n",
        "    print()"
      ],
      "metadata": {
        "colab": {
          "base_uri": "https://localhost:8080/"
        },
        "id": "VAlMK15Q450E",
        "outputId": "14bd6c18-481d-40f6-d765-4d99335860ac"
      },
      "execution_count": 23,
      "outputs": [
        {
          "output_type": "stream",
          "name": "stdout",
          "text": [
            "Número de filtros em conv1: 6 e conv2: 12\n"
          ]
        },
        {
          "output_type": "stream",
          "name": "stderr",
          "text": [
            "100%|██████████| 16/16 [00:00<00:00, 28.22it/s]\n"
          ]
        },
        {
          "output_type": "stream",
          "name": "stdout",
          "text": [
            "Epoch 1, Train Loss: 2.241, Train Accuracy: 21.70%\n",
            "Epoch 1, Val Loss: 2.099, Val Accuracy: 32.40%\n"
          ]
        },
        {
          "output_type": "stream",
          "name": "stderr",
          "text": [
            "100%|██████████| 16/16 [00:00<00:00, 28.67it/s]\n"
          ]
        },
        {
          "output_type": "stream",
          "name": "stdout",
          "text": [
            "Epoch 2, Train Loss: 1.836, Train Accuracy: 41.90%\n",
            "Epoch 2, Val Loss: 1.372, Val Accuracy: 60.80%\n"
          ]
        },
        {
          "output_type": "stream",
          "name": "stderr",
          "text": [
            "100%|██████████| 16/16 [00:00<00:00, 29.14it/s]\n"
          ]
        },
        {
          "output_type": "stream",
          "name": "stdout",
          "text": [
            "Epoch 3, Train Loss: 1.121, Train Accuracy: 62.30%\n",
            "Epoch 3, Val Loss: 0.751, Val Accuracy: 78.00%\n"
          ]
        },
        {
          "output_type": "stream",
          "name": "stderr",
          "text": [
            "100%|██████████| 16/16 [00:00<00:00, 28.00it/s]\n"
          ]
        },
        {
          "output_type": "stream",
          "name": "stdout",
          "text": [
            "Epoch 4, Train Loss: 0.688, Train Accuracy: 76.60%\n",
            "Epoch 4, Val Loss: 0.539, Val Accuracy: 82.60%\n"
          ]
        },
        {
          "output_type": "stream",
          "name": "stderr",
          "text": [
            "100%|██████████| 16/16 [00:00<00:00, 27.96it/s]\n"
          ]
        },
        {
          "output_type": "stream",
          "name": "stdout",
          "text": [
            "Epoch 5, Train Loss: 0.502, Train Accuracy: 84.00%\n",
            "Epoch 5, Val Loss: 0.456, Val Accuracy: 85.60%\n",
            "Treinamento concluído\n",
            "Acurácia da rede na base de teste: 88.40%\n",
            "\n",
            "Número de filtros em conv1: 6 e conv2: 16\n"
          ]
        },
        {
          "output_type": "stream",
          "name": "stderr",
          "text": [
            "100%|██████████| 16/16 [00:00<00:00, 28.04it/s]\n"
          ]
        },
        {
          "output_type": "stream",
          "name": "stdout",
          "text": [
            "Epoch 1, Train Loss: 2.267, Train Accuracy: 21.20%\n",
            "Epoch 1, Val Loss: 2.140, Val Accuracy: 37.80%\n"
          ]
        },
        {
          "output_type": "stream",
          "name": "stderr",
          "text": [
            "100%|██████████| 16/16 [00:00<00:00, 27.98it/s]\n"
          ]
        },
        {
          "output_type": "stream",
          "name": "stdout",
          "text": [
            "Epoch 2, Train Loss: 1.868, Train Accuracy: 44.30%\n",
            "Epoch 2, Val Loss: 1.503, Val Accuracy: 52.60%\n"
          ]
        },
        {
          "output_type": "stream",
          "name": "stderr",
          "text": [
            "100%|██████████| 16/16 [00:00<00:00, 28.06it/s]\n"
          ]
        },
        {
          "output_type": "stream",
          "name": "stdout",
          "text": [
            "Epoch 3, Train Loss: 1.120, Train Accuracy: 64.50%\n",
            "Epoch 3, Val Loss: 0.687, Val Accuracy: 80.00%\n"
          ]
        },
        {
          "output_type": "stream",
          "name": "stderr",
          "text": [
            "100%|██████████| 16/16 [00:00<00:00, 21.09it/s]\n"
          ]
        },
        {
          "output_type": "stream",
          "name": "stdout",
          "text": [
            "Epoch 4, Train Loss: 0.625, Train Accuracy: 79.80%\n",
            "Epoch 4, Val Loss: 0.469, Val Accuracy: 86.20%\n"
          ]
        },
        {
          "output_type": "stream",
          "name": "stderr",
          "text": [
            "100%|██████████| 16/16 [00:00<00:00, 18.99it/s]\n"
          ]
        },
        {
          "output_type": "stream",
          "name": "stdout",
          "text": [
            "Epoch 5, Train Loss: 0.400, Train Accuracy: 86.70%\n",
            "Epoch 5, Val Loss: 0.374, Val Accuracy: 88.60%\n",
            "Treinamento concluído\n",
            "Acurácia da rede na base de teste: 89.80%\n",
            "\n",
            "Número de filtros em conv1: 8 e conv2: 12\n"
          ]
        },
        {
          "output_type": "stream",
          "name": "stderr",
          "text": [
            "100%|██████████| 16/16 [00:00<00:00, 25.40it/s]\n"
          ]
        },
        {
          "output_type": "stream",
          "name": "stdout",
          "text": [
            "Epoch 1, Train Loss: 2.327, Train Accuracy: 12.30%\n",
            "Epoch 1, Val Loss: 2.237, Val Accuracy: 19.00%\n"
          ]
        },
        {
          "output_type": "stream",
          "name": "stderr",
          "text": [
            "100%|██████████| 16/16 [00:00<00:00, 27.65it/s]\n"
          ]
        },
        {
          "output_type": "stream",
          "name": "stdout",
          "text": [
            "Epoch 2, Train Loss: 2.119, Train Accuracy: 29.90%\n",
            "Epoch 2, Val Loss: 1.912, Val Accuracy: 49.20%\n"
          ]
        },
        {
          "output_type": "stream",
          "name": "stderr",
          "text": [
            "100%|██████████| 16/16 [00:00<00:00, 28.19it/s]\n"
          ]
        },
        {
          "output_type": "stream",
          "name": "stdout",
          "text": [
            "Epoch 3, Train Loss: 1.565, Train Accuracy: 51.90%\n",
            "Epoch 3, Val Loss: 1.033, Val Accuracy: 67.60%\n"
          ]
        },
        {
          "output_type": "stream",
          "name": "stderr",
          "text": [
            "100%|██████████| 16/16 [00:00<00:00, 28.37it/s]\n"
          ]
        },
        {
          "output_type": "stream",
          "name": "stdout",
          "text": [
            "Epoch 4, Train Loss: 0.889, Train Accuracy: 69.10%\n",
            "Epoch 4, Val Loss: 0.614, Val Accuracy: 81.60%\n"
          ]
        },
        {
          "output_type": "stream",
          "name": "stderr",
          "text": [
            "100%|██████████| 16/16 [00:00<00:00, 28.24it/s]\n"
          ]
        },
        {
          "output_type": "stream",
          "name": "stdout",
          "text": [
            "Epoch 5, Train Loss: 0.624, Train Accuracy: 79.30%\n",
            "Epoch 5, Val Loss: 0.511, Val Accuracy: 83.00%\n",
            "Treinamento concluído\n",
            "Acurácia da rede na base de teste: 84.40%\n",
            "\n",
            "Número de filtros em conv1: 8 e conv2: 16\n"
          ]
        },
        {
          "output_type": "stream",
          "name": "stderr",
          "text": [
            "100%|██████████| 16/16 [00:00<00:00, 28.44it/s]\n"
          ]
        },
        {
          "output_type": "stream",
          "name": "stdout",
          "text": [
            "Epoch 1, Train Loss: 2.258, Train Accuracy: 19.00%\n",
            "Epoch 1, Val Loss: 2.110, Val Accuracy: 43.80%\n"
          ]
        },
        {
          "output_type": "stream",
          "name": "stderr",
          "text": [
            "100%|██████████| 16/16 [00:00<00:00, 28.60it/s]\n"
          ]
        },
        {
          "output_type": "stream",
          "name": "stdout",
          "text": [
            "Epoch 2, Train Loss: 1.791, Train Accuracy: 39.80%\n",
            "Epoch 2, Val Loss: 1.207, Val Accuracy: 66.00%\n"
          ]
        },
        {
          "output_type": "stream",
          "name": "stderr",
          "text": [
            "100%|██████████| 16/16 [00:00<00:00, 27.36it/s]\n"
          ]
        },
        {
          "output_type": "stream",
          "name": "stdout",
          "text": [
            "Epoch 3, Train Loss: 1.015, Train Accuracy: 64.90%\n",
            "Epoch 3, Val Loss: 0.500, Val Accuracy: 86.40%\n"
          ]
        },
        {
          "output_type": "stream",
          "name": "stderr",
          "text": [
            "100%|██████████| 16/16 [00:00<00:00, 28.48it/s]\n"
          ]
        },
        {
          "output_type": "stream",
          "name": "stdout",
          "text": [
            "Epoch 4, Train Loss: 0.576, Train Accuracy: 80.30%\n",
            "Epoch 4, Val Loss: 0.388, Val Accuracy: 88.00%\n"
          ]
        },
        {
          "output_type": "stream",
          "name": "stderr",
          "text": [
            "100%|██████████| 16/16 [00:00<00:00, 28.75it/s]\n"
          ]
        },
        {
          "output_type": "stream",
          "name": "stdout",
          "text": [
            "Epoch 5, Train Loss: 0.428, Train Accuracy: 85.50%\n",
            "Epoch 5, Val Loss: 0.374, Val Accuracy: 86.80%\n",
            "Treinamento concluído\n",
            "Acurácia da rede na base de teste: 89.40%\n",
            "\n"
          ]
        }
      ]
    },
    {
      "cell_type": "markdown",
      "source": [
        "**R:** Entre os parâmetros solicitados, o que apresentou melhor resultado na validação foi para a combinação (6, 16), com acurária de 89,8%."
      ],
      "metadata": {
        "id": "Teej30Tb7Zqc"
      }
    },
    {
      "cell_type": "markdown",
      "metadata": {
        "id": "S20lNjmO4FTN"
      },
      "source": [
        "### Exercício 2\n",
        "\n",
        "Na CNN implementada, execute 5 treinamentos variando aleatoriamente o número de neurônios de saída em `self.fc1` (o valor atual é 64 e também deve ser alterado na entrada da próxima camada).\n",
        "\n",
        "Como você determinaria qual foi o melhor valor?"
      ]
    },
    {
      "cell_type": "code",
      "execution_count": 25,
      "metadata": {
        "id": "znBTwlkM4FTO",
        "colab": {
          "base_uri": "https://localhost:8080/"
        },
        "outputId": "1da3fb94-07c4-423f-dc00-31fe2221d0be"
      },
      "outputs": [
        {
          "output_type": "stream",
          "name": "stderr",
          "text": [
            "100%|██████████| 16/16 [00:00<00:00, 22.25it/s]\n"
          ]
        },
        {
          "output_type": "stream",
          "name": "stdout",
          "text": [
            "Epoch 1, Train Loss: 2.303, Train Accuracy: 12.50%\n",
            "Epoch 1, Val Loss: 2.261, Val Accuracy: 19.80%\n"
          ]
        },
        {
          "output_type": "stream",
          "name": "stderr",
          "text": [
            "100%|██████████| 16/16 [00:00<00:00, 20.49it/s]\n"
          ]
        },
        {
          "output_type": "stream",
          "name": "stdout",
          "text": [
            "Epoch 2, Train Loss: 2.175, Train Accuracy: 25.10%\n",
            "Epoch 2, Val Loss: 2.033, Val Accuracy: 35.00%\n"
          ]
        },
        {
          "output_type": "stream",
          "name": "stderr",
          "text": [
            "100%|██████████| 16/16 [00:00<00:00, 19.25it/s]\n"
          ]
        },
        {
          "output_type": "stream",
          "name": "stdout",
          "text": [
            "Epoch 3, Train Loss: 1.758, Train Accuracy: 40.60%\n",
            "Epoch 3, Val Loss: 1.369, Val Accuracy: 62.00%\n"
          ]
        },
        {
          "output_type": "stream",
          "name": "stderr",
          "text": [
            "100%|██████████| 16/16 [00:00<00:00, 27.98it/s]\n"
          ]
        },
        {
          "output_type": "stream",
          "name": "stdout",
          "text": [
            "Epoch 4, Train Loss: 1.105, Train Accuracy: 61.30%\n",
            "Epoch 4, Val Loss: 0.815, Val Accuracy: 73.60%\n"
          ]
        },
        {
          "output_type": "stream",
          "name": "stderr",
          "text": [
            "100%|██████████| 16/16 [00:00<00:00, 28.06it/s]\n"
          ]
        },
        {
          "output_type": "stream",
          "name": "stdout",
          "text": [
            "Epoch 5, Train Loss: 0.687, Train Accuracy: 77.30%\n",
            "Epoch 5, Val Loss: 0.523, Val Accuracy: 85.00%\n",
            "Treinamento concluído\n",
            "Número de neurônios na camada fully connected: 55\n",
            "Acurácia da rede na base de teste: 86.20%\n",
            "\n"
          ]
        },
        {
          "output_type": "stream",
          "name": "stderr",
          "text": [
            "100%|██████████| 16/16 [00:00<00:00, 27.06it/s]\n"
          ]
        },
        {
          "output_type": "stream",
          "name": "stdout",
          "text": [
            "Epoch 1, Train Loss: 2.258, Train Accuracy: 15.80%\n",
            "Epoch 1, Val Loss: 2.126, Val Accuracy: 40.40%\n"
          ]
        },
        {
          "output_type": "stream",
          "name": "stderr",
          "text": [
            "100%|██████████| 16/16 [00:00<00:00, 27.75it/s]\n"
          ]
        },
        {
          "output_type": "stream",
          "name": "stdout",
          "text": [
            "Epoch 2, Train Loss: 1.873, Train Accuracy: 43.80%\n",
            "Epoch 2, Val Loss: 1.398, Val Accuracy: 60.80%\n"
          ]
        },
        {
          "output_type": "stream",
          "name": "stderr",
          "text": [
            "100%|██████████| 16/16 [00:00<00:00, 27.57it/s]\n"
          ]
        },
        {
          "output_type": "stream",
          "name": "stdout",
          "text": [
            "Epoch 3, Train Loss: 1.068, Train Accuracy: 65.60%\n",
            "Epoch 3, Val Loss: 0.573, Val Accuracy: 81.20%\n"
          ]
        },
        {
          "output_type": "stream",
          "name": "stderr",
          "text": [
            "100%|██████████| 16/16 [00:00<00:00, 27.17it/s]\n"
          ]
        },
        {
          "output_type": "stream",
          "name": "stdout",
          "text": [
            "Epoch 4, Train Loss: 0.640, Train Accuracy: 80.10%\n",
            "Epoch 4, Val Loss: 0.468, Val Accuracy: 86.60%\n"
          ]
        },
        {
          "output_type": "stream",
          "name": "stderr",
          "text": [
            "100%|██████████| 16/16 [00:00<00:00, 27.12it/s]\n"
          ]
        },
        {
          "output_type": "stream",
          "name": "stdout",
          "text": [
            "Epoch 5, Train Loss: 0.470, Train Accuracy: 84.70%\n",
            "Epoch 5, Val Loss: 0.431, Val Accuracy: 87.00%\n",
            "Treinamento concluído\n",
            "Número de neurônios na camada fully connected: 78\n",
            "Acurácia da rede na base de teste: 89.20%\n",
            "\n"
          ]
        },
        {
          "output_type": "stream",
          "name": "stderr",
          "text": [
            "100%|██████████| 16/16 [00:00<00:00, 28.22it/s]\n"
          ]
        },
        {
          "output_type": "stream",
          "name": "stdout",
          "text": [
            "Epoch 1, Train Loss: 2.279, Train Accuracy: 18.00%\n",
            "Epoch 1, Val Loss: 2.157, Val Accuracy: 32.40%\n"
          ]
        },
        {
          "output_type": "stream",
          "name": "stderr",
          "text": [
            "100%|██████████| 16/16 [00:00<00:00, 27.91it/s]\n"
          ]
        },
        {
          "output_type": "stream",
          "name": "stdout",
          "text": [
            "Epoch 2, Train Loss: 1.949, Train Accuracy: 34.30%\n",
            "Epoch 2, Val Loss: 1.545, Val Accuracy: 52.00%\n"
          ]
        },
        {
          "output_type": "stream",
          "name": "stderr",
          "text": [
            "100%|██████████| 16/16 [00:00<00:00, 29.02it/s]\n"
          ]
        },
        {
          "output_type": "stream",
          "name": "stdout",
          "text": [
            "Epoch 3, Train Loss: 1.176, Train Accuracy: 61.80%\n",
            "Epoch 3, Val Loss: 0.653, Val Accuracy: 81.20%\n"
          ]
        },
        {
          "output_type": "stream",
          "name": "stderr",
          "text": [
            "100%|██████████| 16/16 [00:00<00:00, 27.83it/s]\n"
          ]
        },
        {
          "output_type": "stream",
          "name": "stdout",
          "text": [
            "Epoch 4, Train Loss: 0.692, Train Accuracy: 77.40%\n",
            "Epoch 4, Val Loss: 0.473, Val Accuracy: 85.80%\n"
          ]
        },
        {
          "output_type": "stream",
          "name": "stderr",
          "text": [
            "100%|██████████| 16/16 [00:00<00:00, 23.27it/s]\n"
          ]
        },
        {
          "output_type": "stream",
          "name": "stdout",
          "text": [
            "Epoch 5, Train Loss: 0.491, Train Accuracy: 84.50%\n",
            "Epoch 5, Val Loss: 0.379, Val Accuracy: 86.80%\n",
            "Treinamento concluído\n",
            "Número de neurônios na camada fully connected: 90\n",
            "Acurácia da rede na base de teste: 88.80%\n",
            "\n"
          ]
        },
        {
          "output_type": "stream",
          "name": "stderr",
          "text": [
            "100%|██████████| 16/16 [00:00<00:00, 20.91it/s]\n"
          ]
        },
        {
          "output_type": "stream",
          "name": "stdout",
          "text": [
            "Epoch 1, Train Loss: 2.288, Train Accuracy: 16.00%\n",
            "Epoch 1, Val Loss: 2.220, Val Accuracy: 29.00%\n"
          ]
        },
        {
          "output_type": "stream",
          "name": "stderr",
          "text": [
            "100%|██████████| 16/16 [00:00<00:00, 19.62it/s]\n"
          ]
        },
        {
          "output_type": "stream",
          "name": "stdout",
          "text": [
            "Epoch 2, Train Loss: 2.025, Train Accuracy: 34.60%\n",
            "Epoch 2, Val Loss: 1.675, Val Accuracy: 48.40%\n"
          ]
        },
        {
          "output_type": "stream",
          "name": "stderr",
          "text": [
            "100%|██████████| 16/16 [00:00<00:00, 19.74it/s]\n"
          ]
        },
        {
          "output_type": "stream",
          "name": "stdout",
          "text": [
            "Epoch 3, Train Loss: 1.336, Train Accuracy: 56.00%\n",
            "Epoch 3, Val Loss: 0.904, Val Accuracy: 71.00%\n"
          ]
        },
        {
          "output_type": "stream",
          "name": "stderr",
          "text": [
            "100%|██████████| 16/16 [00:00<00:00, 20.04it/s]\n"
          ]
        },
        {
          "output_type": "stream",
          "name": "stdout",
          "text": [
            "Epoch 4, Train Loss: 0.781, Train Accuracy: 75.50%\n",
            "Epoch 4, Val Loss: 0.583, Val Accuracy: 82.80%\n"
          ]
        },
        {
          "output_type": "stream",
          "name": "stderr",
          "text": [
            "100%|██████████| 16/16 [00:00<00:00, 27.88it/s]\n"
          ]
        },
        {
          "output_type": "stream",
          "name": "stdout",
          "text": [
            "Epoch 5, Train Loss: 0.578, Train Accuracy: 81.60%\n",
            "Epoch 5, Val Loss: 0.469, Val Accuracy: 85.20%\n",
            "Treinamento concluído\n",
            "Número de neurônios na camada fully connected: 61\n",
            "Acurácia da rede na base de teste: 87.60%\n",
            "\n"
          ]
        },
        {
          "output_type": "stream",
          "name": "stderr",
          "text": [
            "100%|██████████| 16/16 [00:00<00:00, 27.62it/s]\n"
          ]
        },
        {
          "output_type": "stream",
          "name": "stdout",
          "text": [
            "Epoch 1, Train Loss: 2.308, Train Accuracy: 13.50%\n",
            "Epoch 1, Val Loss: 2.267, Val Accuracy: 10.80%\n"
          ]
        },
        {
          "output_type": "stream",
          "name": "stderr",
          "text": [
            "100%|██████████| 16/16 [00:00<00:00, 28.90it/s]\n"
          ]
        },
        {
          "output_type": "stream",
          "name": "stdout",
          "text": [
            "Epoch 2, Train Loss: 2.212, Train Accuracy: 19.60%\n",
            "Epoch 2, Val Loss: 2.145, Val Accuracy: 21.80%\n"
          ]
        },
        {
          "output_type": "stream",
          "name": "stderr",
          "text": [
            "100%|██████████| 16/16 [00:00<00:00, 29.07it/s]\n"
          ]
        },
        {
          "output_type": "stream",
          "name": "stdout",
          "text": [
            "Epoch 3, Train Loss: 1.960, Train Accuracy: 33.40%\n",
            "Epoch 3, Val Loss: 1.735, Val Accuracy: 43.00%\n"
          ]
        },
        {
          "output_type": "stream",
          "name": "stderr",
          "text": [
            "100%|██████████| 16/16 [00:00<00:00, 28.75it/s]\n"
          ]
        },
        {
          "output_type": "stream",
          "name": "stdout",
          "text": [
            "Epoch 4, Train Loss: 1.454, Train Accuracy: 50.60%\n",
            "Epoch 4, Val Loss: 1.064, Val Accuracy: 64.60%\n"
          ]
        },
        {
          "output_type": "stream",
          "name": "stderr",
          "text": [
            "100%|██████████| 16/16 [00:00<00:00, 27.73it/s]\n"
          ]
        },
        {
          "output_type": "stream",
          "name": "stdout",
          "text": [
            "Epoch 5, Train Loss: 0.950, Train Accuracy: 66.70%\n",
            "Epoch 5, Val Loss: 0.648, Val Accuracy: 81.00%\n",
            "Treinamento concluído\n",
            "Número de neurônios na camada fully connected: 20\n",
            "Acurácia da rede na base de teste: 78.80%\n",
            "\n"
          ]
        }
      ],
      "source": [
        "for i in range(5):\n",
        "  num_neurons = np.random.randint(10, 100)\n",
        "  model = CNN(initialize_weights=True, dropout=0.2, n_hidden=num_neurons)\n",
        "  criterion = nn.CrossEntropyLoss()\n",
        "  optimizer = optim.SGD(model.parameters(), lr=0.01, momentum=0.9)\n",
        "  history = train_model(model, trainloader, valloader, criterion, optimizer)\n",
        "\n",
        "  print(f'Número de neurônios na camada fully connected: {num_neurons}')\n",
        "  test_model(model, testloader)\n",
        "  print()"
      ]
    },
    {
      "cell_type": "markdown",
      "source": [
        "**R:** A variação de neurônios da camada de saída apresentou melhor resultado na validação com uma quantidade de 78 neurônios e acurácia da rede na base de teste de 89.20%."
      ],
      "metadata": {
        "id": "CQ-B3XH58kl8"
      }
    }
  ],
  "metadata": {
    "kernelspec": {
      "display_name": "Python 3",
      "name": "python3"
    },
    "language_info": {
      "codemirror_mode": {
        "name": "ipython",
        "version": 3
      },
      "file_extension": ".py",
      "mimetype": "text/x-python",
      "name": "python",
      "nbconvert_exporter": "python",
      "pygments_lexer": "ipython3",
      "version": "3.10.13"
    },
    "colab": {
      "provenance": [],
      "gpuType": "T4"
    },
    "accelerator": "GPU"
  },
  "nbformat": 4,
  "nbformat_minor": 0
}