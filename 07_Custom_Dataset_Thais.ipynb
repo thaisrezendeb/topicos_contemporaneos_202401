{
  "cells": [
    {
      "cell_type": "markdown",
      "metadata": {
        "id": "ThEVyym79Y9v"
      },
      "source": [
        "## Exercício\n",
        "Um dataset sintético contendo alguns exemplos de diferentes formas básicas é criado. Em seguida, crie um dataset e um modelo convolucional que classifique o formato na imagem."
      ]
    },
    {
      "cell_type": "code",
      "execution_count": 1,
      "metadata": {
        "id": "H7jg0YWx9Y91"
      },
      "outputs": [],
      "source": [
        "import numpy as np\n",
        "import cv2\n",
        "import os\n",
        "import pandas as pd\n",
        "import matplotlib.pyplot as plt\n",
        "from tqdm import tqdm"
      ]
    },
    {
      "cell_type": "code",
      "execution_count": 2,
      "metadata": {
        "id": "xZh57rK89Y95"
      },
      "outputs": [],
      "source": [
        "# Parâmetros\n",
        "image_size = 64\n",
        "num_examples = 2000\n",
        "num_classes = 5\n",
        "output_file = \"data/synthetic.csv\""
      ]
    },
    {
      "cell_type": "code",
      "source": [
        "! mkdir ./data"
      ],
      "metadata": {
        "id": "cu9PVyy4GoyG"
      },
      "execution_count": 7,
      "outputs": []
    },
    {
      "cell_type": "code",
      "execution_count": 3,
      "metadata": {
        "id": "22aRgrey9Y97"
      },
      "outputs": [],
      "source": [
        "# Função para gerar uma imagem de uma determinada classe\n",
        "def generate_image(label):\n",
        "    image = np.zeros((image_size, image_size, 3), dtype=np.uint8)\n",
        "    if label == 0:\n",
        "        # Classe 0: Círculos\n",
        "        center = (np.random.randint(10, image_size-10), np.random.randint(10, image_size-10))\n",
        "        radius = np.random.randint(5, 10)\n",
        "        color = (np.random.randint(256), np.random.randint(256), np.random.randint(256))\n",
        "        cv2.circle(image, center, radius, color, -1)\n",
        "    elif label == 1:\n",
        "        # Classe 1: Triângulos equiláteros\n",
        "        side_length = np.random.randint(10, 20)\n",
        "        height = int(np.sqrt(3)/2 * side_length)\n",
        "        center = (np.random.randint(side_length//2, image_size-side_length//2),\n",
        "                  np.random.randint(height//2, image_size-height//2))\n",
        "        pts = np.array([[center[0], center[1] - 2*height//3],\n",
        "                        [center[0] - side_length//2, center[1] + height//3],\n",
        "                        [center[0] + side_length//2, center[1] + height//3]], np.int32)\n",
        "        pts = pts.reshape((-1, 1, 2))\n",
        "        color = (np.random.randint(256), np.random.randint(256), np.random.randint(256))\n",
        "        cv2.fillPoly(image, [pts], color)\n",
        "    elif label == 2:\n",
        "        # Classe 2: Linhas Horizontais\n",
        "        y = np.random.randint(5, image_size-5)\n",
        "        color = (np.random.randint(256), np.random.randint(256), np.random.randint(256))\n",
        "        thickness = np.random.randint(1, 3)\n",
        "        cv2.line(image, (0, y), (image_size, y), color, thickness)\n",
        "    elif label == 3:\n",
        "        # Classe 3: Quadrados\n",
        "        top_left = (np.random.randint(10, image_size-10), np.random.randint(10, image_size-10))\n",
        "        size = np.random.randint(5, 10)\n",
        "        bottom_right = (top_left[0] + size, top_left[1] + size)\n",
        "        color = (np.random.randint(256), np.random.randint(256), np.random.randint(256))\n",
        "        cv2.rectangle(image, top_left, bottom_right, color, -1)\n",
        "    elif label == 4:\n",
        "        # Classe 4: Linhas Verticais\n",
        "        x = np.random.randint(5, image_size-5)\n",
        "        color = (np.random.randint(256), np.random.randint(256), np.random.randint(256))\n",
        "        thickness = np.random.randint(1, 3)\n",
        "        cv2.line(image, (x, 0), (x, image_size), color, thickness)\n",
        "\n",
        "    image = cv2.cvtColor(image, cv2.COLOR_BGR2RGB)\n",
        "    return image"
      ]
    },
    {
      "cell_type": "code",
      "execution_count": 4,
      "metadata": {
        "id": "zEPo_n7X9Y9-"
      },
      "outputs": [],
      "source": [
        "def show_image(image):\n",
        "    plt.figure(figsize=(4, 4))\n",
        "    plt.imshow(image)\n",
        "    plt.axis(\"off\")\n",
        "    plt.show()"
      ]
    },
    {
      "cell_type": "code",
      "execution_count": 5,
      "metadata": {
        "id": "e9kT2x9A9Y-B",
        "colab": {
          "base_uri": "https://localhost:8080/",
          "height": 345
        },
        "outputId": "0a422cd1-4821-49aa-e5f1-bd44f1dfbf14"
      },
      "outputs": [
        {
          "output_type": "display_data",
          "data": {
            "text/plain": [
              "<Figure size 400x400 with 1 Axes>"
            ],
            "image/png": "[encoded data removed]"
          },
          "metadata": {}
        }
      ],
      "source": [
        "show_image(generate_image(1))"
      ]
    },
    {
      "cell_type": "code",
      "execution_count": 8,
      "metadata": {
        "id": "WrSQVkO69Y-E",
        "colab": {
          "base_uri": "https://localhost:8080/"
        },
        "outputId": "96e6acca-b99d-4cd8-fb04-f4976528f827"
      },
      "outputs": [
        {
          "output_type": "stream",
          "name": "stderr",
          "text": [
            "100%|██████████| 2000/2000 [00:00<00:00, 18825.25it/s]\n"
          ]
        },
        {
          "output_type": "stream",
          "name": "stdout",
          "text": [
            "Dataset salvo em data/synthetic.csv\n"
          ]
        }
      ],
      "source": [
        "data = []\n",
        "labels = []\n",
        "for _ in tqdm(range(num_examples)):\n",
        "    label = np.random.randint(0, num_classes)\n",
        "    image = generate_image(label).flatten()\n",
        "    data.append(np.concatenate(([label], image)))\n",
        "    labels.append(label)\n",
        "\n",
        "data = np.array(data)\n",
        "\n",
        "# Salvando em CSV\n",
        "df = pd.DataFrame(data)\n",
        "df.to_csv(output_file, index=False, header=False)\n",
        "\n",
        "print(f\"Dataset salvo em {output_file}\")"
      ]
    },
    {
      "cell_type": "code",
      "execution_count": 9,
      "metadata": {
        "id": "5Ime5Tss9Y-H"
      },
      "outputs": [],
      "source": [
        "import torch\n",
        "import torch.nn as nn\n",
        "import torch.optim as optim\n",
        "import torch.nn.functional as F\n",
        "from torch.utils.data import Dataset, DataLoader, Subset\n",
        "import torchvision\n",
        "import torchvision.transforms as transforms"
      ]
    },
    {
      "cell_type": "code",
      "execution_count": 10,
      "metadata": {
        "id": "adJddN3P9Y-J"
      },
      "outputs": [],
      "source": [
        "# Definição da classe SyntheticCSVLoader para carregar o dataset a partir de um arquivo CSV. Baseie-se no MNISTDataset do notebook \"04 - Basic CNNs.ipynb\"\n",
        "class SyntheticCSVLoader(Dataset):\n",
        "    def __init__(self, csv_file, image_size=64, transform=None):\n",
        "        self.data = pd.read_csv(csv_file, header=None)\n",
        "        self.image_size = image_size\n",
        "        self.transform = transform\n",
        "\n",
        "    def __len__(self):\n",
        "        return len(self.data)\n",
        "\n",
        "    def __getitem__(self, idx):\n",
        "        # A primeira coluna é o rótulo\n",
        "        label = self.data.iloc[idx, 0]\n",
        "\n",
        "        # As demais colunas são os pixels da imagem (64x64x3)\n",
        "        image = self.data.iloc[idx, 1:].values.astype(np.uint8).reshape(self.image_size, self.image_size, 3)\n",
        "\n",
        "        # Converte a imagem para tensor e ajusta os eixos para o formato (C, H, W)\n",
        "        image = torch.tensor(image).permute(2, 0, 1)\n",
        "\n",
        "        if self.transform:\n",
        "            image = self.transform(image)\n",
        "\n",
        "        return image, label"
      ]
    },
    {
      "cell_type": "code",
      "execution_count": 11,
      "metadata": {
        "id": "gXqHDG7L9Y-L"
      },
      "outputs": [],
      "source": [
        "transform = transforms.Compose([\n",
        "    transforms.ToPILImage(),    # Convertendo o array numpy para imagem PIL\n",
        "    transforms.ToTensor(),      # Convertendo a imagem PIL para tensor\n",
        "    transforms.Normalize((0.5,), (0.5,))  # Normalizando a imagem\n",
        "])\n",
        "\n",
        "synthetic_dataset = SyntheticCSVLoader(\n",
        "    csv_file=\"data/synthetic.csv\",\n",
        "    transform=transform\n",
        ")"
      ]
    },
    {
      "cell_type": "code",
      "execution_count": 12,
      "metadata": {
        "id": "eJDgp0EU9Y-M"
      },
      "outputs": [],
      "source": [
        "# Dividindo o dataset em conjuntos de treino e teste\n",
        "trainset = Subset(synthetic_dataset, range(1800))\n",
        "valset = Subset(synthetic_dataset, range(1800, 2000))"
      ]
    },
    {
      "cell_type": "code",
      "execution_count": 13,
      "metadata": {
        "id": "jeDmQwQJ9Y-N"
      },
      "outputs": [],
      "source": [
        "# Criando DataLoaders para os subsets\n",
        "train_loader = DataLoader(trainset, batch_size=32, shuffle=True)\n",
        "val_loader = DataLoader(valset, batch_size=32, shuffle=True)"
      ]
    },
    {
      "cell_type": "code",
      "execution_count": 14,
      "metadata": {
        "id": "hls_SFv_9Y-O"
      },
      "outputs": [],
      "source": [
        "def train_model(model, trainloader, valloader, criterion, optimizer, num_epochs=5):\n",
        "    history = {\n",
        "        'train_losses': [],\n",
        "        'val_losses': [],\n",
        "        'train_accuracies': [],\n",
        "        'val_accuracies': []\n",
        "    }\n",
        "\n",
        "    for epoch in range(num_epochs):\n",
        "        # Treinamento\n",
        "        model.train()\n",
        "        running_loss = 0.0\n",
        "        correct = 0\n",
        "        total = 0\n",
        "        for i, data in tqdm(enumerate(trainloader, 0), total=len(trainloader)):\n",
        "            inputs, labels = data\n",
        "\n",
        "            optimizer.zero_grad()\n",
        "\n",
        "            outputs = model(inputs)\n",
        "            loss = criterion(outputs, labels)\n",
        "            loss.backward()\n",
        "            optimizer.step()\n",
        "\n",
        "            running_loss += loss.item()\n",
        "            _, predicted = torch.max(outputs.data, 1)\n",
        "            total += labels.size(0)\n",
        "            correct += (predicted == labels).sum().item()\n",
        "\n",
        "        train_loss = running_loss / len(trainloader)\n",
        "        train_acc = 100 * correct / total\n",
        "        history['train_losses'].append(train_loss)\n",
        "        history['train_accuracies'].append(train_acc)\n",
        "        print(f'Epoch {epoch+1}, Train Loss: {train_loss:.3f}, Train Accuracy: {train_acc:.2f}%')\n",
        "\n",
        "        # Validação\n",
        "        model.eval()\n",
        "        val_running_loss = 0.0\n",
        "        correct = 0\n",
        "        total = 0\n",
        "        with torch.no_grad():\n",
        "            for data in valloader:\n",
        "                inputs, labels = data\n",
        "                outputs = model(inputs)\n",
        "                loss = criterion(outputs, labels)\n",
        "                val_running_loss += loss.item()\n",
        "                _, predicted = torch.max(outputs.data, 1)\n",
        "                total += labels.size(0)\n",
        "                correct += (predicted == labels).sum().item()\n",
        "\n",
        "        val_loss = val_running_loss / len(valloader)\n",
        "        val_acc = 100 * correct / total\n",
        "        history['val_losses'].append(val_loss)\n",
        "        history['val_accuracies'].append(val_acc)\n",
        "        print(f'Epoch {epoch+1}, Val Loss: {val_loss:.3f}, Val Accuracy: {val_acc:.2f}%')\n",
        "\n",
        "    print('Treinamento concluído')\n",
        "    return history\n",
        "\n",
        "\n",
        "def plot_history(history):\n",
        "    fig, (ax1, ax2) = plt.subplots(1, 2, figsize=(12, 4))\n",
        "\n",
        "    ax1.plot(history['train_losses'], label='Train')\n",
        "    ax1.plot(history['val_losses'], label='Validation')\n",
        "    ax1.set_title('Loss')\n",
        "    ax1.legend()\n",
        "\n",
        "    ax2.plot(history['train_accuracies'], label='Train')\n",
        "    ax2.plot(history['val_accuracies'], label='Validation')\n",
        "    ax2.set_title('Accuracy')\n",
        "    ax2.legend()\n",
        "\n",
        "    plt.show()\n",
        "\n",
        "\n",
        "def test_model(model, testloader):\n",
        "    correct = 0\n",
        "    total = 0\n",
        "    with torch.no_grad():\n",
        "        for data in testloader:\n",
        "            images, labels = data\n",
        "            outputs = model(images)\n",
        "            _, predicted = torch.max(outputs.data, 1)\n",
        "            total += labels.size(0)\n",
        "            correct += (predicted == labels).sum().item()\n",
        "\n",
        "    print(f'Acurácia da rede na base de teste: {100 * correct / total:.2f}%')"
      ]
    },
    {
      "cell_type": "code",
      "execution_count": 49,
      "metadata": {
        "id": "cRDVWgzl9Y-Q",
        "colab": {
          "base_uri": "https://localhost:8080/"
        },
        "outputId": "6b2ef9fb-51df-40e2-fb66-fb09fec5b924"
      },
      "outputs": [
        {
          "output_type": "execute_result",
          "data": {
            "text/plain": [
              "torch.Size([32, 5])"
            ]
          },
          "metadata": {},
          "execution_count": 49
        }
      ],
      "source": [
        "class CNN(nn.Module):\n",
        "    def __init__(self, num_classes=5):\n",
        "        super().__init__()\n",
        "        self.net = nn.Sequential(\n",
        "            nn.Conv2d(3, 6, 5),\n",
        "            nn.ReLU(),\n",
        "            nn.MaxPool2d(2),\n",
        "            nn.Dropout(0.2),\n",
        "\n",
        "            nn.Conv2d(6, 12, 5),\n",
        "            nn.ReLU(),\n",
        "            nn.MaxPool2d(2),\n",
        "            nn.Dropout(0.2),\n",
        "\n",
        "            nn.Conv2d(12, 24, 5),\n",
        "            nn.ReLU(),\n",
        "            nn.MaxPool2d(2),\n",
        "            nn.Dropout(0.2),\n",
        "\n",
        "            nn.Flatten(),\n",
        "\n",
        "            nn.Linear(384, 64),\n",
        "            nn.ReLU(),\n",
        "            nn.Linear(64, num_classes)\n",
        "        )\n",
        "\n",
        "    def forward(self, x):\n",
        "        x = self.net(x)\n",
        "        return x\n",
        "\n",
        "model = CNN()\n",
        "images, labels = next(iter(val_loader))\n",
        "model(images).shape"
      ]
    },
    {
      "cell_type": "code",
      "execution_count": 50,
      "metadata": {
        "id": "hLYwEUFK9Y-Q"
      },
      "outputs": [],
      "source": [
        "criterion = nn.CrossEntropyLoss()\n",
        "# optimizer = optim.SGD(model.parameters(), lr=0.001, momentum=0.9)\n",
        "optimizer = optim.Adam(model.parameters(), lr=1e-3)"
      ]
    },
    {
      "cell_type": "code",
      "execution_count": 51,
      "metadata": {
        "id": "gIBXeiJO9Y-R",
        "colab": {
          "base_uri": "https://localhost:8080/"
        },
        "outputId": "6119ecc3-641f-44cc-fa90-d97ce2e1803a"
      },
      "outputs": [
        {
          "output_type": "stream",
          "name": "stderr",
          "text": [
            "100%|██████████| 57/57 [00:03<00:00, 14.98it/s]\n"
          ]
        },
        {
          "output_type": "stream",
          "name": "stdout",
          "text": [
            "Epoch 1, Train Loss: 1.535, Train Accuracy: 31.61%\n",
            "Epoch 1, Val Loss: 1.319, Val Accuracy: 50.50%\n"
          ]
        },
        {
          "output_type": "stream",
          "name": "stderr",
          "text": [
            "100%|██████████| 57/57 [00:04<00:00, 11.58it/s]\n"
          ]
        },
        {
          "output_type": "stream",
          "name": "stdout",
          "text": [
            "Epoch 2, Train Loss: 0.977, Train Accuracy: 57.78%\n",
            "Epoch 2, Val Loss: 0.764, Val Accuracy: 65.50%\n"
          ]
        },
        {
          "output_type": "stream",
          "name": "stderr",
          "text": [
            "100%|██████████| 57/57 [00:03<00:00, 14.88it/s]\n"
          ]
        },
        {
          "output_type": "stream",
          "name": "stdout",
          "text": [
            "Epoch 3, Train Loss: 0.695, Train Accuracy: 67.50%\n",
            "Epoch 3, Val Loss: 0.534, Val Accuracy: 76.00%\n"
          ]
        },
        {
          "output_type": "stream",
          "name": "stderr",
          "text": [
            "100%|██████████| 57/57 [00:03<00:00, 14.86it/s]\n"
          ]
        },
        {
          "output_type": "stream",
          "name": "stdout",
          "text": [
            "Epoch 4, Train Loss: 0.531, Train Accuracy: 76.50%\n",
            "Epoch 4, Val Loss: 0.421, Val Accuracy: 84.50%\n"
          ]
        },
        {
          "output_type": "stream",
          "name": "stderr",
          "text": [
            "100%|██████████| 57/57 [00:04<00:00, 11.48it/s]\n"
          ]
        },
        {
          "output_type": "stream",
          "name": "stdout",
          "text": [
            "Epoch 5, Train Loss: 0.404, Train Accuracy: 82.44%\n",
            "Epoch 5, Val Loss: 0.305, Val Accuracy: 85.50%\n"
          ]
        },
        {
          "output_type": "stream",
          "name": "stderr",
          "text": [
            "100%|██████████| 57/57 [00:03<00:00, 14.97it/s]\n"
          ]
        },
        {
          "output_type": "stream",
          "name": "stdout",
          "text": [
            "Epoch 6, Train Loss: 0.333, Train Accuracy: 86.22%\n",
            "Epoch 6, Val Loss: 0.174, Val Accuracy: 95.50%\n"
          ]
        },
        {
          "output_type": "stream",
          "name": "stderr",
          "text": [
            "100%|██████████| 57/57 [00:03<00:00, 14.92it/s]\n"
          ]
        },
        {
          "output_type": "stream",
          "name": "stdout",
          "text": [
            "Epoch 7, Train Loss: 0.237, Train Accuracy: 91.00%\n",
            "Epoch 7, Val Loss: 0.227, Val Accuracy: 93.50%\n"
          ]
        },
        {
          "output_type": "stream",
          "name": "stderr",
          "text": [
            "100%|██████████| 57/57 [00:04<00:00, 11.66it/s]\n"
          ]
        },
        {
          "output_type": "stream",
          "name": "stdout",
          "text": [
            "Epoch 8, Train Loss: 0.265, Train Accuracy: 89.39%\n",
            "Epoch 8, Val Loss: 0.152, Val Accuracy: 95.50%\n"
          ]
        },
        {
          "output_type": "stream",
          "name": "stderr",
          "text": [
            "100%|██████████| 57/57 [00:03<00:00, 15.17it/s]\n"
          ]
        },
        {
          "output_type": "stream",
          "name": "stdout",
          "text": [
            "Epoch 9, Train Loss: 0.215, Train Accuracy: 92.44%\n",
            "Epoch 9, Val Loss: 0.230, Val Accuracy: 90.00%\n"
          ]
        },
        {
          "output_type": "stream",
          "name": "stderr",
          "text": [
            "100%|██████████| 57/57 [00:03<00:00, 14.36it/s]\n"
          ]
        },
        {
          "output_type": "stream",
          "name": "stdout",
          "text": [
            "Epoch 10, Train Loss: 0.172, Train Accuracy: 94.11%\n",
            "Epoch 10, Val Loss: 0.149, Val Accuracy: 94.50%\n"
          ]
        },
        {
          "output_type": "stream",
          "name": "stderr",
          "text": [
            "100%|██████████| 57/57 [00:04<00:00, 12.16it/s]\n"
          ]
        },
        {
          "output_type": "stream",
          "name": "stdout",
          "text": [
            "Epoch 11, Train Loss: 0.387, Train Accuracy: 86.50%\n",
            "Epoch 11, Val Loss: 0.251, Val Accuracy: 89.00%\n"
          ]
        },
        {
          "output_type": "stream",
          "name": "stderr",
          "text": [
            "100%|██████████| 57/57 [00:03<00:00, 14.66it/s]\n"
          ]
        },
        {
          "output_type": "stream",
          "name": "stdout",
          "text": [
            "Epoch 12, Train Loss: 0.217, Train Accuracy: 92.11%\n",
            "Epoch 12, Val Loss: 0.102, Val Accuracy: 97.00%\n"
          ]
        },
        {
          "output_type": "stream",
          "name": "stderr",
          "text": [
            "100%|██████████| 57/57 [00:03<00:00, 14.95it/s]\n"
          ]
        },
        {
          "output_type": "stream",
          "name": "stdout",
          "text": [
            "Epoch 13, Train Loss: 0.137, Train Accuracy: 95.22%\n",
            "Epoch 13, Val Loss: 0.093, Val Accuracy: 97.50%\n"
          ]
        },
        {
          "output_type": "stream",
          "name": "stderr",
          "text": [
            "100%|██████████| 57/57 [00:04<00:00, 12.59it/s]\n"
          ]
        },
        {
          "output_type": "stream",
          "name": "stdout",
          "text": [
            "Epoch 14, Train Loss: 0.109, Train Accuracy: 96.11%\n",
            "Epoch 14, Val Loss: 0.074, Val Accuracy: 98.50%\n"
          ]
        },
        {
          "output_type": "stream",
          "name": "stderr",
          "text": [
            "100%|██████████| 57/57 [00:04<00:00, 14.04it/s]\n"
          ]
        },
        {
          "output_type": "stream",
          "name": "stdout",
          "text": [
            "Epoch 15, Train Loss: 0.119, Train Accuracy: 95.94%\n",
            "Epoch 15, Val Loss: 0.065, Val Accuracy: 97.50%\n",
            "Treinamento concluído\n"
          ]
        }
      ],
      "source": [
        "# Treinamento\n",
        "history = train_model(model, train_loader, val_loader, criterion, optimizer, num_epochs=15)"
      ]
    },
    {
      "cell_type": "code",
      "execution_count": 52,
      "metadata": {
        "id": "Sd-Dqubr9Y-S",
        "colab": {
          "base_uri": "https://localhost:8080/"
        },
        "outputId": "1747052b-8875-4090-a2a3-f25c3d13e345"
      },
      "outputs": [
        {
          "output_type": "stream",
          "name": "stdout",
          "text": [
            "Acurácia da rede na base de teste: 97.50%\n"
          ]
        }
      ],
      "source": [
        "# Teste\n",
        "test_model(model, val_loader)"
      ]
    },
    {
      "cell_type": "code",
      "execution_count": 53,
      "metadata": {
        "id": "S_kZjYd-9Y-S",
        "colab": {
          "base_uri": "https://localhost:8080/",
          "height": 391
        },
        "outputId": "f17cd046-7d5b-4c85-8bce-52ac3406d7d1"
      },
      "outputs": [
        {
          "output_type": "display_data",
          "data": {
            "text/plain": [
              "<Figure size 1200x400 with 2 Axes>"
            ],
            "image/png": "[encoded data removed]"
          },
          "metadata": {}
        }
      ],
      "source": [
        "plot_history(history)"
      ]
    }
  ],
  "metadata": {
    "kernelspec": {
      "display_name": "base",
      "language": "python",
      "name": "python3"
    },
    "language_info": {
      "codemirror_mode": {
        "name": "ipython",
        "version": 3
      },
      "file_extension": ".py",
      "mimetype": "text/x-python",
      "name": "python",
      "nbconvert_exporter": "python",
      "pygments_lexer": "ipython3",
      "version": "3.10.13"
    },
    "colab": {
      "provenance": []
    }
  },
  "nbformat": 4,
  "nbformat_minor": 0
}