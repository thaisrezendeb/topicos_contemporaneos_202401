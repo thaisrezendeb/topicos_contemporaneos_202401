{
  "cells": [
    {
      "cell_type": "code",
      "execution_count": null,
      "metadata": {
        "id": "5qQIuNbC1jSF"
      },
      "outputs": [],
      "source": [
        "# Importando PyTorch\n",
        "import torch"
      ]
    },
    {
      "cell_type": "markdown",
      "metadata": {
        "id": "5jH3ofcn1jSF"
      },
      "source": [
        "# Introdução ao PyTorch\n",
        "\n",
        "## O que é PyTorch?\n",
        "PyTorch é uma biblioteca de aprendizado profundo de código aberto desenvolvida pelo Facebook's AI Research lab (FAIR). Ela é amplamente utilizada para tarefas de visão computacional e processamento de linguagem natural."
      ]
    },
    {
      "cell_type": "markdown",
      "metadata": {
        "id": "jsHCoPXn1jSH"
      },
      "source": [
        "### História e contexto\n",
        "PyTorch foi lançado em janeiro de 2017. Ele é baseado na biblioteca Torch, que é uma estrutura de aprendizado de máquina em Lua. PyTorch é conhecido por sua facilidade de uso e integração com Python, o que o torna popular entre pesquisadores e engenheiros.\n",
        "\n",
        "### Comparação com outras bibliotecas\n",
        "- **TensorFlow**: Desenvolvido pelo Google, TensorFlow é uma das bibliotecas de aprendizado profundo mais populares. Enquanto TensorFlow é conhecido por sua escalabilidade e produção, PyTorch é elogiado por sua facilidade de uso e flexibilidade.\n",
        "- **NumPy**: NumPy é uma biblioteca fundamental para computação científica em Python. PyTorch usa tensores, que são similares aos arrays do NumPy, mas com suporte para computação em GPU."
      ]
    },
    {
      "cell_type": "markdown",
      "metadata": {
        "id": "QIvlOjX81jSI"
      },
      "source": [
        "## O que são tensores?\n",
        "Tensores são a estrutura de dados fundamental em PyTorch. Eles são similares aos arrays do NumPy, mas com suporte para computação em GPU.\n",
        "\n",
        "Tensores 1D, 2D, 3D, etc.\n",
        "- 1D: Vetores\n",
        "- 2D: Matrizes\n",
        "- 3D: Matrizes tridimensionais (cubos de dados)\n",
        "- ND: Tensores de N dimensões"
      ]
    },
    {
      "cell_type": "code",
      "execution_count": null,
      "metadata": {
        "id": "c-RBpopN1jSJ",
        "colab": {
          "base_uri": "https://localhost:8080/"
        },
        "outputId": "277210a0-0ff4-4cb0-a7e1-4502f76fc46d"
      },
      "outputs": [
        {
          "output_type": "stream",
          "name": "stdout",
          "text": [
            "tensor([1, 2, 3, 4])\n"
          ]
        }
      ],
      "source": [
        "# Tensor 1D\n",
        "tensor_1d = torch.tensor([1, 2, 3, 4])\n",
        "print(tensor_1d)"
      ]
    },
    {
      "cell_type": "code",
      "execution_count": null,
      "metadata": {
        "id": "voSR6M9l1jSJ",
        "colab": {
          "base_uri": "https://localhost:8080/"
        },
        "outputId": "6c487e1c-dd78-4552-d701-7314f86d3eca"
      },
      "outputs": [
        {
          "output_type": "stream",
          "name": "stdout",
          "text": [
            "tensor([[1, 2, 3],\n",
            "        [4, 5, 6]])\n"
          ]
        }
      ],
      "source": [
        "# Tensor 2D\n",
        "tensor_2d = torch.tensor([[1, 2, 3], [4, 5, 6]])\n",
        "print(tensor_2d)"
      ]
    },
    {
      "cell_type": "code",
      "execution_count": null,
      "metadata": {
        "id": "X_UKJVKW1jSK",
        "colab": {
          "base_uri": "https://localhost:8080/"
        },
        "outputId": "1e137ca0-2142-4afb-abdc-24abe0f2e872"
      },
      "outputs": [
        {
          "output_type": "stream",
          "name": "stdout",
          "text": [
            "tensor([[[1, 2],\n",
            "         [3, 4]],\n",
            "\n",
            "        [[5, 6],\n",
            "         [7, 8]]])\n"
          ]
        }
      ],
      "source": [
        "# Tensor 3D\n",
        "tensor_3d = torch.tensor([[[1, 2], [3, 4]], [[5, 6], [7, 8]]])\n",
        "print(tensor_3d)"
      ]
    },
    {
      "cell_type": "markdown",
      "metadata": {
        "id": "wcdoGoVy1jSK"
      },
      "source": [
        "### Tipos de dados\n",
        "Os tensores em PyTorch suportam vários tipos de dados, como inteiros e floats. O tipo de dado pode ser especificado durante a criação do tensor."
      ]
    },
    {
      "cell_type": "code",
      "execution_count": null,
      "metadata": {
        "id": "PDHbDHxu1jSL",
        "colab": {
          "base_uri": "https://localhost:8080/"
        },
        "outputId": "d719c025-08ba-4c97-ff46-508924898d81"
      },
      "outputs": [
        {
          "output_type": "stream",
          "name": "stdout",
          "text": [
            "tensor([1, 2, 3], dtype=torch.int32)\n"
          ]
        }
      ],
      "source": [
        "# Criação de um tensor de inteiros\n",
        "tensor_int = torch.tensor([1, 2, 3], dtype=torch.int32)\n",
        "print(tensor_int)"
      ]
    },
    {
      "cell_type": "code",
      "execution_count": null,
      "metadata": {
        "id": "B2VaNRNQ1jSN",
        "colab": {
          "base_uri": "https://localhost:8080/"
        },
        "outputId": "1fd8da60-d893-471d-c361-6495115a0cb3"
      },
      "outputs": [
        {
          "output_type": "stream",
          "name": "stdout",
          "text": [
            "tensor([1., 2., 3.])\n"
          ]
        }
      ],
      "source": [
        "# Criação de um tensor de floats\n",
        "tensor_float = torch.tensor([1.0, 2.0, 3.0], dtype=torch.float32)\n",
        "print(tensor_float)"
      ]
    },
    {
      "cell_type": "markdown",
      "metadata": {
        "id": "KI7k9kKK1jSN"
      },
      "source": [
        "## Funções de Criação de Tensores\n",
        "PyTorch fornece várias funções utilitárias para criar tensores de forma eficiente.\n",
        "\n",
        "- `torch.zeros`: Cria um tensor preenchido com zeros.\n",
        "- `torch.zeros_like`: Cria um tensor preenchido com zeros, com as mesmas dimensões de um tensor dado.\n",
        "- `torch.ones`: Cria um tensor preenchido com uns.\n",
        "- `torch.ones_like`: Cria um tensor preenchido com uns, com as mesmas dimensões de um tensor dado.\n",
        "- `torch.linspace`: Cria um tensor com valores linearmente espaçados entre dois pontos.\n",
        "- `torch.arange`: Cria um tensor com valores em uma faixa específica com um passo definido."
      ]
    },
    {
      "cell_type": "code",
      "execution_count": null,
      "metadata": {
        "id": "2T-I7RPC1jSO",
        "colab": {
          "base_uri": "https://localhost:8080/"
        },
        "outputId": "667ad75b-e977-4f24-b74c-2d6a82db9088"
      },
      "outputs": [
        {
          "output_type": "stream",
          "name": "stdout",
          "text": [
            "tensor([[[0., 0., 0., 0., 0.],\n",
            "         [0., 0., 0., 0., 0.],\n",
            "         [0., 0., 0., 0., 0.]],\n",
            "\n",
            "        [[0., 0., 0., 0., 0.],\n",
            "         [0., 0., 0., 0., 0.],\n",
            "         [0., 0., 0., 0., 0.]],\n",
            "\n",
            "        [[0., 0., 0., 0., 0.],\n",
            "         [0., 0., 0., 0., 0.],\n",
            "         [0., 0., 0., 0., 0.]]])\n"
          ]
        }
      ],
      "source": [
        "# Criação de tensores de zeros\n",
        "tensor_zeros = torch.zeros(3, 3, 5)\n",
        "print(tensor_zeros)"
      ]
    },
    {
      "cell_type": "code",
      "execution_count": null,
      "metadata": {
        "id": "H3-v2RIj1jSO",
        "colab": {
          "base_uri": "https://localhost:8080/"
        },
        "outputId": "78d04f60-ae87-41a8-8998-f1077658dbfc"
      },
      "outputs": [
        {
          "output_type": "stream",
          "name": "stdout",
          "text": [
            "tensor([[0, 0, 0],\n",
            "        [0, 0, 0]])\n"
          ]
        }
      ],
      "source": [
        "# Criação de tensores de zeros_like\n",
        "tensor_zeros_like = torch.zeros_like(tensor_2d)\n",
        "print(tensor_zeros_like)"
      ]
    },
    {
      "cell_type": "code",
      "execution_count": null,
      "metadata": {
        "id": "3XLJwSf51jSO",
        "colab": {
          "base_uri": "https://localhost:8080/"
        },
        "outputId": "aa0322f1-041a-4236-991c-cff27225d926"
      },
      "outputs": [
        {
          "output_type": "stream",
          "name": "stdout",
          "text": [
            "tensor([[1., 1.],\n",
            "        [1., 1.]])\n"
          ]
        }
      ],
      "source": [
        "# Criação de tensores de uns\n",
        "tensor_ones = torch.ones(2, 2)\n",
        "print(tensor_ones)"
      ]
    },
    {
      "cell_type": "code",
      "execution_count": null,
      "metadata": {
        "id": "uYZL70h61jSP",
        "colab": {
          "base_uri": "https://localhost:8080/"
        },
        "outputId": "27a84121-d7c9-4ea1-ba52-bb250f4bc424"
      },
      "outputs": [
        {
          "output_type": "stream",
          "name": "stdout",
          "text": [
            "tensor([[1, 1, 1],\n",
            "        [1, 1, 1]])\n"
          ]
        }
      ],
      "source": [
        "# Criação de tensores de ones_like\n",
        "tensor_ones_like = torch.ones_like(tensor_2d)\n",
        "print(tensor_ones_like)"
      ]
    },
    {
      "cell_type": "code",
      "execution_count": null,
      "metadata": {
        "id": "GGvpM7X01jSP",
        "colab": {
          "base_uri": "https://localhost:8080/"
        },
        "outputId": "52d3ddaa-42bb-41d9-8c4d-9cd46ac382e8"
      },
      "outputs": [
        {
          "output_type": "stream",
          "name": "stdout",
          "text": [
            "tensor([ 0.0000,  2.5000,  5.0000,  7.5000, 10.0000])\n"
          ]
        }
      ],
      "source": [
        "# Linspace\n",
        "tensor_linspace = torch.linspace(0, 10, steps=5)\n",
        "print(tensor_linspace)"
      ]
    },
    {
      "cell_type": "code",
      "execution_count": null,
      "metadata": {
        "id": "9HIfqX351jSP",
        "colab": {
          "base_uri": "https://localhost:8080/"
        },
        "outputId": "cf852e60-527e-45a7-bdbd-d94d744e39c9"
      },
      "outputs": [
        {
          "output_type": "stream",
          "name": "stdout",
          "text": [
            "tensor([0.0000, 2.5000, 5.0000, 7.5000])\n"
          ]
        }
      ],
      "source": [
        "# Arange\n",
        "tensor_arange = torch.arange(0, 10, step=2.5)\n",
        "print(tensor_arange)"
      ]
    },
    {
      "cell_type": "markdown",
      "metadata": {
        "id": "KGz6LTaT1jSP"
      },
      "source": [
        "## Indexação e Fatiamento\n",
        "A indexação e o fatiamento em PyTorch são similares ao NumPy, permitindo acessar e modificar partes específicas de um tensor."
      ]
    },
    {
      "cell_type": "code",
      "execution_count": null,
      "metadata": {
        "id": "DNf9W2cC1jSP",
        "colab": {
          "base_uri": "https://localhost:8080/"
        },
        "outputId": "dcafa4a7-7706-4343-97cb-bd2785b04ee9"
      },
      "outputs": [
        {
          "output_type": "stream",
          "name": "stdout",
          "text": [
            "Tensor original:\n",
            " tensor([[1, 2, 3],\n",
            "        [4, 5, 6],\n",
            "        [7, 8, 9]])\n"
          ]
        }
      ],
      "source": [
        "# Criando um tensor de exemplo\n",
        "tensor = torch.tensor([[1, 2, 3], [4, 5, 6], [7, 8, 9]])\n",
        "print(\"Tensor original:\\n\", tensor)"
      ]
    },
    {
      "cell_type": "code",
      "execution_count": null,
      "metadata": {
        "id": "MTLARv011jSP",
        "colab": {
          "base_uri": "https://localhost:8080/"
        },
        "outputId": "4416cd76-75a8-4274-a9c5-3073450aa901"
      },
      "outputs": [
        {
          "output_type": "stream",
          "name": "stdout",
          "text": [
            "Elemento na posição [1, 2]: tensor(6)\n"
          ]
        }
      ],
      "source": [
        "# Indexação por elementos específicos\n",
        "print(\"Elemento na posição [1, 2]:\", tensor[1, 2])  # Acessa o valor '6'"
      ]
    },
    {
      "cell_type": "code",
      "execution_count": null,
      "metadata": {
        "id": "Dj31FNzs1jSQ",
        "colab": {
          "base_uri": "https://localhost:8080/"
        },
        "outputId": "f8ea0f0a-aca6-47bd-a137-c2a51f8ef51d"
      },
      "outputs": [
        {
          "output_type": "stream",
          "name": "stdout",
          "text": [
            "Primeira linha: tensor([1, 2, 3])\n",
            "Segunda coluna: tensor([2, 5, 8])\n"
          ]
        }
      ],
      "source": [
        "# Indexação\n",
        "print(\"Primeira linha:\", tensor[0, :])  # Obtendo a primeira linha\n",
        "print(\"Segunda coluna:\", tensor[:, 1])  # Obtendo a segunda coluna"
      ]
    },
    {
      "cell_type": "code",
      "execution_count": null,
      "metadata": {
        "id": "F3Zz-34j1jSQ",
        "colab": {
          "base_uri": "https://localhost:8080/"
        },
        "outputId": "517ed040-abcb-4b16-eb10-5f32a4fdc6d2"
      },
      "outputs": [
        {
          "output_type": "stream",
          "name": "stdout",
          "text": [
            "Subtensor a partir da segunda linha e segunda coluna:\n",
            " tensor([[5, 6],\n",
            "        [8, 9]])\n"
          ]
        }
      ],
      "source": [
        "# Fatiamento\n",
        "print(\"Subtensor a partir da segunda linha e segunda coluna:\\n\", tensor[1:, 1:])"
      ]
    },
    {
      "cell_type": "code",
      "execution_count": null,
      "metadata": {
        "id": "pX9AQH9-1jSQ",
        "colab": {
          "base_uri": "https://localhost:8080/"
        },
        "outputId": "0a86c0dc-c944-4029-b572-30d82dec8e82"
      },
      "outputs": [
        {
          "output_type": "stream",
          "name": "stdout",
          "text": [
            "Subtensor pulando uma linha e uma coluna:\n",
            " tensor([[1, 3],\n",
            "        [7, 9]])\n"
          ]
        }
      ],
      "source": [
        "# Exemplo de fatiamento complexo: pulando elementos\n",
        "print(\"Subtensor pulando uma linha e uma coluna:\\n\", tensor[::2, ::2])  # Pulando linhas e colunas"
      ]
    },
    {
      "cell_type": "code",
      "execution_count": null,
      "metadata": {
        "id": "VR3ymumt1jSQ",
        "colab": {
          "base_uri": "https://localhost:8080/"
        },
        "outputId": "3b6ad1ae-d9f6-4e3d-fc80-54f97902e72e"
      },
      "outputs": [
        {
          "output_type": "stream",
          "name": "stdout",
          "text": [
            "Última linha do tensor: tensor([7, 8, 9])\n",
            "Última coluna do tensor: tensor([3, 6, 9])\n"
          ]
        }
      ],
      "source": [
        "# Fatiamento com valores negativos\n",
        "print(\"Última linha do tensor:\", tensor[-1, :])  # Acessando a última linha\n",
        "print(\"Última coluna do tensor:\", tensor[:, -1])  # Acessando a última coluna"
      ]
    },
    {
      "cell_type": "markdown",
      "metadata": {
        "id": "Xf-21zkr1jSQ"
      },
      "source": [
        "## Operações básicas com tensores\n",
        "PyTorch suporta várias operações básicas com tensores, como adição, multiplicação, subtração e divisão."
      ]
    },
    {
      "cell_type": "code",
      "execution_count": null,
      "metadata": {
        "id": "_0JRm7kw1jSQ",
        "colab": {
          "base_uri": "https://localhost:8080/"
        },
        "outputId": "5af084ec-e049-4448-8154-d8821d9c3b3c"
      },
      "outputs": [
        {
          "output_type": "stream",
          "name": "stdout",
          "text": [
            "+ tensor([5, 7, 9])\n",
            "* tensor([ 4, 10, 18])\n",
            "- tensor([-3, -3, -3])\n",
            "/ tensor([0.2500, 0.4000, 0.5000])\n",
            "Produto escalar tensor(32)\n"
          ]
        }
      ],
      "source": [
        "a = torch.tensor([1, 2, 3])\n",
        "b = torch.tensor([4, 5, 6])\n",
        "\n",
        "# Adição\n",
        "print(\"+\", a + b)\n",
        "\n",
        "# Multiplicação\n",
        "print(\"*\", a * b)\n",
        "\n",
        "# Subtração\n",
        "print(\"-\", a - b)\n",
        "\n",
        "# Divisão\n",
        "print(\"/\", a / b)\n",
        "\n",
        "# Produto escalar\n",
        "dot_product = torch.dot(a, b)\n",
        "print(\"Produto escalar\", dot_product)"
      ]
    },
    {
      "cell_type": "markdown",
      "metadata": {
        "id": "RQgZmcCS1jSQ"
      },
      "source": [
        "## Manipulando formato (shape)"
      ]
    },
    {
      "cell_type": "code",
      "execution_count": null,
      "metadata": {
        "id": "tcvlxIoZ1jSR",
        "colab": {
          "base_uri": "https://localhost:8080/"
        },
        "outputId": "c21d1b52-8056-4010-da4d-fb3987fffaff"
      },
      "outputs": [
        {
          "output_type": "stream",
          "name": "stdout",
          "text": [
            "tensor([[ 0,  1,  2],\n",
            "        [ 3,  4,  5],\n",
            "        [ 6,  7,  8],\n",
            "        [ 9, 10, 11]])\n"
          ]
        }
      ],
      "source": [
        "tensor = torch.arange(12).reshape(4, 3)\n",
        "print(tensor)"
      ]
    },
    {
      "cell_type": "code",
      "execution_count": null,
      "metadata": {
        "id": "hw3LSYMX1jSR",
        "colab": {
          "base_uri": "https://localhost:8080/"
        },
        "outputId": "78ee6fe2-5603-4ba3-db35-ec8a406bfde5"
      },
      "outputs": [
        {
          "output_type": "stream",
          "name": "stdout",
          "text": [
            "tensor([[ 0,  1],\n",
            "        [ 2,  3],\n",
            "        [ 4,  5],\n",
            "        [ 6,  7],\n",
            "        [ 8,  9],\n",
            "        [10, 11]])\n"
          ]
        }
      ],
      "source": [
        "# View\n",
        "tensor_reshaped = tensor.view(6, 2)\n",
        "print(tensor_reshaped)"
      ]
    },
    {
      "cell_type": "code",
      "execution_count": null,
      "metadata": {
        "id": "PCUN8UC21jSR",
        "colab": {
          "base_uri": "https://localhost:8080/"
        },
        "outputId": "d8f57d4a-bf7e-4f08-ad05-07b0f22aaaac"
      },
      "outputs": [
        {
          "output_type": "stream",
          "name": "stdout",
          "text": [
            "tensor([[ 0,  3,  6,  9],\n",
            "        [ 1,  4,  7, 10],\n",
            "        [ 2,  5,  8, 11]])\n"
          ]
        }
      ],
      "source": [
        "# Transpose\n",
        "tensor_transposed = tensor.t()\n",
        "print(tensor_transposed)"
      ]
    },
    {
      "cell_type": "markdown",
      "metadata": {
        "id": "-BN_kL_s1jSR"
      },
      "source": [
        "### Flatten\n",
        "A função flatten retorna um tensor 1D contendo todos os elementos do tensor original"
      ]
    },
    {
      "cell_type": "code",
      "execution_count": null,
      "metadata": {
        "id": "SfhtnQ4r1jSR",
        "colab": {
          "base_uri": "https://localhost:8080/"
        },
        "outputId": "16af246d-aba4-4eea-e025-8b01a1f15a54"
      },
      "outputs": [
        {
          "output_type": "stream",
          "name": "stdout",
          "text": [
            "tensor([ 0,  1,  2,  3,  4,  5,  6,  7,  8,  9, 10, 11])\n"
          ]
        }
      ],
      "source": [
        "# Flatten\n",
        "tensor_flattened = tensor.flatten()\n",
        "print(tensor_flattened)"
      ]
    },
    {
      "cell_type": "code",
      "execution_count": null,
      "metadata": {
        "id": "Ly3YF5_k1jSR",
        "colab": {
          "base_uri": "https://localhost:8080/"
        },
        "outputId": "633187c0-012d-430a-8dcc-8281dba92050"
      },
      "outputs": [
        {
          "output_type": "stream",
          "name": "stdout",
          "text": [
            "tensor([[[[ 0],\n",
            "          [ 1],\n",
            "          [ 2],\n",
            "          [ 3],\n",
            "          [ 4],\n",
            "          [ 5]],\n",
            "\n",
            "         [[ 6],\n",
            "          [ 7],\n",
            "          [ 8],\n",
            "          [ 9],\n",
            "          [10],\n",
            "          [11]]]])\n",
            "torch.Size([1, 2, 6, 1])\n"
          ]
        }
      ],
      "source": [
        "# Reshape\n",
        "tensor_reshaped = tensor.reshape(1, 2, 6, 1)\n",
        "print(tensor_reshaped)\n",
        "print(tensor_reshaped.shape)"
      ]
    },
    {
      "cell_type": "markdown",
      "metadata": {
        "id": "T3rJ3Z4s1jSR"
      },
      "source": [
        "### Squeeze e Unsqueeze\n",
        "- `squeeze`: Remove dimensões de tamanho 1 de um tensor.\n",
        "- `unsqueeze`: Adiciona uma dimensão de tamanho 1 em um tensor."
      ]
    },
    {
      "cell_type": "code",
      "execution_count": null,
      "metadata": {
        "id": "-8nOjagQ1jSS",
        "colab": {
          "base_uri": "https://localhost:8080/"
        },
        "outputId": "387fc135-56d2-4af3-eed9-d48e38cda53d"
      },
      "outputs": [
        {
          "output_type": "stream",
          "name": "stdout",
          "text": [
            "tensor([[ 0,  1,  2,  3,  4,  5],\n",
            "        [ 6,  7,  8,  9, 10, 11]])\n",
            "torch.Size([2, 6])\n"
          ]
        }
      ],
      "source": [
        "# Squeeze\n",
        "tensor_squeezed = tensor_reshaped.squeeze()\n",
        "print(tensor_squeezed)\n",
        "print(tensor_squeezed.shape)"
      ]
    },
    {
      "cell_type": "code",
      "execution_count": null,
      "metadata": {
        "id": "0de9ZcsE1jSS",
        "colab": {
          "base_uri": "https://localhost:8080/"
        },
        "outputId": "2500e97c-a68a-49a6-d25e-a38d41d03dd1"
      },
      "outputs": [
        {
          "output_type": "stream",
          "name": "stdout",
          "text": [
            "tensor([[[ 0,  1,  2,  3,  4,  5],\n",
            "         [ 6,  7,  8,  9, 10, 11]]])\n",
            "torch.Size([1, 2, 6])\n"
          ]
        }
      ],
      "source": [
        "# Unsqueeze\n",
        "tensor_unsqueezed = tensor_squeezed.unsqueeze(dim=0)\n",
        "print(tensor_unsqueezed)\n",
        "print(tensor_unsqueezed.shape)"
      ]
    },
    {
      "cell_type": "markdown",
      "metadata": {
        "id": "6xSzaYg71jSS"
      },
      "source": [
        "## Broadcasting\n",
        "O broadcasting é uma técnica que permite que tensores de diferentes formas sejam utilizados juntos em operações aritméticas. Em vez de copiar dados, o PyTorch ajusta os tensores de forma automática para que tenham formas compatíveis."
      ]
    },
    {
      "cell_type": "markdown",
      "metadata": {
        "id": "2kOS67iL1jSS"
      },
      "source": [
        "### Adição de um Escalar\n",
        "\n",
        "Quando adicionamos um escalar a um tensor, o escalar é automaticamente expandido para a forma do tensor:"
      ]
    },
    {
      "cell_type": "code",
      "execution_count": null,
      "metadata": {
        "id": "3PYba1FQ1jSS",
        "colab": {
          "base_uri": "https://localhost:8080/"
        },
        "outputId": "cdd189ee-0b0c-4dcd-abf4-3d790bba6d00"
      },
      "outputs": [
        {
          "output_type": "stream",
          "name": "stdout",
          "text": [
            "tensor([[11, 12, 13],\n",
            "        [14, 15, 16]])\n"
          ]
        }
      ],
      "source": [
        "# Cria um tensor 2x3\n",
        "tensor = torch.tensor([[1, 2, 3], [4, 5, 6]])\n",
        "\n",
        "# Adiciona um escalar\n",
        "scalar = 10\n",
        "\n",
        "# Broadcasting para adicionar o escalar a cada elemento do tensor\n",
        "result = tensor + scalar\n",
        "print(result)"
      ]
    },
    {
      "cell_type": "markdown",
      "metadata": {
        "id": "Q-okgY-o1jSW"
      },
      "source": [
        "### Adição de Tensores com Diferentes Dimensões\n",
        "\n",
        "Vamos adicionar um tensor 2x3 com um tensor 1x3. Neste caso, o tensor 1x3 será expandido (broadcasted) para uma forma 2x3:"
      ]
    },
    {
      "cell_type": "code",
      "execution_count": null,
      "metadata": {
        "id": "VbGw0bU21jSW",
        "colab": {
          "base_uri": "https://localhost:8080/"
        },
        "outputId": "a61525e1-b0e3-4e86-c1d4-cddd2f0a2480"
      },
      "outputs": [
        {
          "output_type": "stream",
          "name": "stdout",
          "text": [
            "tensor([[11, 22, 33],\n",
            "        [14, 25, 36]])\n"
          ]
        }
      ],
      "source": [
        "# Cria um tensor 2x3\n",
        "tensor_a = torch.tensor([[1, 2, 3], [4, 5, 6]])\n",
        "\n",
        "# Cria um tensor 1x3\n",
        "tensor_b = torch.tensor([10, 20, 30])\n",
        "\n",
        "# Broadcasting para adicionar tensores de diferentes formas\n",
        "result = tensor_a + tensor_b\n",
        "print(result)"
      ]
    },
    {
      "cell_type": "markdown",
      "metadata": {
        "id": "V_WOXYPU1jSW"
      },
      "source": [
        "### Regras de Broadcasting\n",
        "\n",
        "Para que o broadcasting funcione, os tensores devem seguir algumas regras:\n",
        "\n",
        "1. **Compatibilidade de Dimensões**: As dimensões dos tensores devem ser compatíveis. Duas dimensões são compatíveis se forem iguais ou se uma delas for 1.\n",
        "2. **Expansão Automática**: Se uma dimensão de um tensor for 1, ela será expandida para corresponder à dimensão do outro tensor.\n",
        "\n",
        "No exemplo a seguir, o tensor `tensor_c` de forma 2x1 é expandido para 2x3, e o tensor `tensor_d` de forma 1x3 é expandido para 2x3. O resultado é um tensor 2x3 onde cada elemento é o produto dos elementos correspondentes."
      ]
    },
    {
      "cell_type": "code",
      "execution_count": null,
      "metadata": {
        "id": "cGEi8n4G1jSX",
        "colab": {
          "base_uri": "https://localhost:8080/"
        },
        "outputId": "b0c5a702-f5fe-41e7-80e0-0eea154d714c"
      },
      "outputs": [
        {
          "output_type": "stream",
          "name": "stdout",
          "text": [
            "tensor([[10, 20, 30],\n",
            "        [20, 40, 60]])\n"
          ]
        }
      ],
      "source": [
        "# Cria um tensor 2x1\n",
        "tensor_c = torch.tensor([[1], [2]])\n",
        "\n",
        "# Cria um tensor 1x3\n",
        "tensor_d = torch.tensor([10, 20, 30])\n",
        "\n",
        "# Broadcasting para multiplicar tensores de diferentes formas\n",
        "result = tensor_c * tensor_d\n",
        "print(result)"
      ]
    },
    {
      "cell_type": "markdown",
      "metadata": {
        "id": "R_5K5eGJ1jSX"
      },
      "source": [
        "## Operações de Redução em PyTorch\n",
        "\n",
        "As operações de redução são usadas para reduzir as dimensões de um tensor, aplicando operações como soma, média, mínimo e máximo. Essas operações são fundamentais em várias aplicações de machine learning e deep learning."
      ]
    },
    {
      "cell_type": "code",
      "execution_count": null,
      "metadata": {
        "id": "3YV3iDGO1jSX",
        "colab": {
          "base_uri": "https://localhost:8080/"
        },
        "outputId": "89d7af42-33e6-4dc8-c070-37ede937dea5"
      },
      "outputs": [
        {
          "output_type": "stream",
          "name": "stdout",
          "text": [
            "Tensor original:\n",
            " tensor([[1., 2., 3.],\n",
            "        [4., 5., 6.]])\n",
            "torch.Size([2, 3])\n"
          ]
        }
      ],
      "source": [
        "# Cria um tensor 2x3\n",
        "tensor = torch.tensor([[1.0, 2.0, 3.0], [4.0, 5.0, 6.0]])\n",
        "print(\"Tensor original:\\n\", tensor)\n",
        "print(tensor.shape)"
      ]
    },
    {
      "cell_type": "markdown",
      "metadata": {
        "id": "33o7X06j1jSX"
      },
      "source": [
        "### Soma de Todos os Elementos\n",
        "\n",
        "A função `torch.sum` calcula a soma de todos os elementos do tensor:"
      ]
    },
    {
      "cell_type": "code",
      "execution_count": null,
      "metadata": {
        "id": "kRJgmkbm1jSX",
        "colab": {
          "base_uri": "https://localhost:8080/"
        },
        "outputId": "bb2a3045-5a2b-4c9a-9d4e-e61c28e53efe"
      },
      "outputs": [
        {
          "output_type": "stream",
          "name": "stdout",
          "text": [
            "Soma de todos os elementos: 21.0\n"
          ]
        }
      ],
      "source": [
        "# Soma de todos os elementos do tensor\n",
        "sum_all = torch.sum(tensor)\n",
        "print(\"Soma de todos os elementos:\", sum_all.item())"
      ]
    },
    {
      "cell_type": "markdown",
      "metadata": {
        "id": "9P8Eni0k1jSX"
      },
      "source": [
        "### Soma ao Longo de um Eixo\n",
        "\n",
        "Podemos calcular a soma ao longo de um eixo específico, usando o parâmetro `dim`:"
      ]
    },
    {
      "cell_type": "code",
      "execution_count": null,
      "metadata": {
        "id": "S5eINdUc1jSX",
        "colab": {
          "base_uri": "https://localhost:8080/"
        },
        "outputId": "b4d8845f-0335-4606-93a4-371c5e6e59c5"
      },
      "outputs": [
        {
          "output_type": "stream",
          "name": "stdout",
          "text": [
            "Soma ao longo do eixo 0 (linhas): tensor([5., 7., 9.])\n",
            "torch.Size([3])\n"
          ]
        }
      ],
      "source": [
        "# Soma ao longo do eixo 0 (linhas)\n",
        "sum_dim0 = torch.sum(tensor, axis=0)\n",
        "print(\"Soma ao longo do eixo 0 (linhas):\", sum_dim0)\n",
        "print(sum_dim0.shape)"
      ]
    },
    {
      "cell_type": "code",
      "execution_count": null,
      "metadata": {
        "id": "_KgWs1Fk1jSX",
        "colab": {
          "base_uri": "https://localhost:8080/"
        },
        "outputId": "5de0f387-20d4-4367-bedd-3cd4d84701ff"
      },
      "outputs": [
        {
          "output_type": "stream",
          "name": "stdout",
          "text": [
            "Soma ao longo do eixo 1 (colunas): tensor([ 6., 15.])\n",
            "torch.Size([2])\n"
          ]
        }
      ],
      "source": [
        "# Soma ao longo do eixo 1 (colunas)\n",
        "sum_dim1 = torch.sum(tensor, dim=1)\n",
        "print(\"Soma ao longo do eixo 1 (colunas):\", sum_dim1)\n",
        "print(sum_dim1.shape)"
      ]
    },
    {
      "cell_type": "markdown",
      "metadata": {
        "id": "kg1mX04e1jSY"
      },
      "source": [
        "### Média dos Elementos\n",
        "\n",
        "A função `torch.mean` calcula a média dos elementos do tensor:"
      ]
    },
    {
      "cell_type": "code",
      "execution_count": null,
      "metadata": {
        "id": "wt6LWLf_1jSY",
        "colab": {
          "base_uri": "https://localhost:8080/"
        },
        "outputId": "b31a7a06-7e08-49c3-ad96-ea40515b1985"
      },
      "outputs": [
        {
          "output_type": "stream",
          "name": "stdout",
          "text": [
            "Média de todos os elementos: 3.5\n"
          ]
        }
      ],
      "source": [
        "# Média de todos os elementos do tensor\n",
        "mean_all = torch.mean(tensor)\n",
        "print(\"Média de todos os elementos:\", mean_all.item())"
      ]
    },
    {
      "cell_type": "code",
      "execution_count": null,
      "metadata": {
        "id": "fiVYs0gZ1jSY",
        "colab": {
          "base_uri": "https://localhost:8080/"
        },
        "outputId": "0aab9914-3af9-4476-9d75-cc071d966961"
      },
      "outputs": [
        {
          "output_type": "stream",
          "name": "stdout",
          "text": [
            "Média ao longo do eixo 0 (linhas): tensor([2.5000, 3.5000, 4.5000])\n",
            "torch.Size([3])\n"
          ]
        }
      ],
      "source": [
        "# Média ao longo do eixo 0 (linhas)\n",
        "mean_dim0 = torch.mean(tensor, dim=0)\n",
        "print(\"Média ao longo do eixo 0 (linhas):\", mean_dim0)\n",
        "print(mean_dim0.shape)"
      ]
    },
    {
      "cell_type": "code",
      "execution_count": null,
      "metadata": {
        "id": "TeQhnsoO1jSY",
        "colab": {
          "base_uri": "https://localhost:8080/"
        },
        "outputId": "659ad782-6afb-41c0-90fd-f46b949e467e"
      },
      "outputs": [
        {
          "output_type": "stream",
          "name": "stdout",
          "text": [
            "Média ao longo do eixo 1 (colunas): tensor([2., 5.])\n",
            "torch.Size([2])\n"
          ]
        }
      ],
      "source": [
        "# Média ao longo do eixo 1 (colunas)\n",
        "mean_dim1 = torch.mean(tensor, dim=1)\n",
        "print(\"Média ao longo do eixo 1 (colunas):\", mean_dim1)\n",
        "print(mean_dim1.shape)"
      ]
    },
    {
      "cell_type": "markdown",
      "metadata": {
        "id": "VJERnKgA1jSY"
      },
      "source": [
        "### Valor Mínimo e Máximo\n",
        "\n",
        "Podemos encontrar o valor mínimo e máximo de um tensor usando `torch.min` e `torch.max`:"
      ]
    },
    {
      "cell_type": "code",
      "execution_count": null,
      "metadata": {
        "id": "od3lEWxq1jSY",
        "colab": {
          "base_uri": "https://localhost:8080/"
        },
        "outputId": "e51f820c-d081-42d4-b22a-0841a4abd708"
      },
      "outputs": [
        {
          "output_type": "stream",
          "name": "stdout",
          "text": [
            "Valor mínimo de todos os elementos: tensor(1.)\n",
            "\n",
            "Valor máximo de todos os elementos: tensor(6.)\n",
            "\n",
            "Valor mínimo ao longo do eixo 0 (linhas): tensor([1., 2., 3.])\n",
            "Índices dos valores mínimos ao longo do eixo 0 (linhas): tensor([0, 0, 0])\n",
            "\n",
            "Valor máximo ao longo do eixo 1 (colunas): tensor([3., 6.])\n",
            "Índices dos valores máximos ao longo do eixo 1 (colunas): tensor([2, 2])\n"
          ]
        }
      ],
      "source": [
        "# Valor mínimo de todos os elementos do tensor\n",
        "min_all = torch.min(tensor)\n",
        "print(\"Valor mínimo de todos os elementos:\", min_all)\n",
        "print()\n",
        "\n",
        "# Valor máximo de todos os elementos do tensor\n",
        "max_all = torch.max(tensor)\n",
        "print(\"Valor máximo de todos os elementos:\", max_all)\n",
        "print()\n",
        "\n",
        "# Valor mínimo ao longo do eixo 0 (linhas)\n",
        "min_dim0, min_indices_dim0 = torch.min(tensor, dim=0)\n",
        "print(\"Valor mínimo ao longo do eixo 0 (linhas):\", min_dim0)\n",
        "print(\"Índices dos valores mínimos ao longo do eixo 0 (linhas):\", min_indices_dim0)\n",
        "print()\n",
        "\n",
        "# Valor máximo ao longo do eixo 1 (colunas)\n",
        "max_dim1, max_indices_dim1 = torch.max(tensor, dim=1)\n",
        "print(\"Valor máximo ao longo do eixo 1 (colunas):\", max_dim1)\n",
        "print(\"Índices dos valores máximos ao longo do eixo 1 (colunas):\", max_indices_dim1)"
      ]
    },
    {
      "cell_type": "markdown",
      "metadata": {
        "id": "IrME7A1Q1jSY"
      },
      "source": [
        "### Produto dos Elementos\n",
        "\n",
        "A função `torch.prod` calcula o produto de todos os elementos do tensor:"
      ]
    },
    {
      "cell_type": "code",
      "execution_count": null,
      "metadata": {
        "id": "QtEPqtuh1jSZ",
        "colab": {
          "base_uri": "https://localhost:8080/"
        },
        "outputId": "443c3ef1-86f1-451b-e1e4-0b17563db12e"
      },
      "outputs": [
        {
          "output_type": "stream",
          "name": "stdout",
          "text": [
            "Produto de todos os elementos: tensor(720.)\n",
            "\n",
            "Produto ao longo do eixo 0 (linhas): tensor([ 4., 10., 18.])\n",
            "\n",
            "Produto ao longo do eixo 1 (colunas): tensor([  6., 120.])\n"
          ]
        }
      ],
      "source": [
        "# Produto de todos os elementos do tensor\n",
        "prod_all = torch.prod(tensor)\n",
        "print(\"Produto de todos os elementos:\", prod_all)\n",
        "print()\n",
        "\n",
        "# Produto ao longo do eixo 0 (linhas)\n",
        "prod_dim0 = torch.prod(tensor, dim=0)\n",
        "print(\"Produto ao longo do eixo 0 (linhas):\", prod_dim0)\n",
        "print()\n",
        "\n",
        "# Produto ao longo do eixo 1 (colunas)\n",
        "prod_dim1 = torch.prod(tensor, dim=1)\n",
        "print(\"Produto ao longo do eixo 1 (colunas):\", prod_dim1)"
      ]
    },
    {
      "cell_type": "markdown",
      "metadata": {
        "id": "tMCKFLhV1jSZ"
      },
      "source": [
        "## Propriedade requires_grad\n",
        "A propriedade `requires_grad` em PyTorch é fundamental para a construção e treinamento de redes neurais, pois permite calcular automaticamente os gradientes das operações. Quando `requires_grad` é definido como `True` em um tensor, todas as operações feitas nesse tensor serão rastreadas para a diferenciação automática.\n",
        "\n",
        "### Autograd e Grafos Computacionais\n",
        "\n",
        "Autograd é um componente essencial em frameworks de deep learning como PyTorch, que permite a diferenciação automática de tensores. Este mecanismo é fundamental para a otimização dos modelos de aprendizado de máquina, pois permite calcular gradientes de forma eficiente, necessária para o ajuste dos parâmetros do modelo durante o treinamento.\n",
        "\n",
        "#### Grafos Computacionais\n",
        "\n",
        "Para entender o funcionamento do autograd, é importante compreender os grafos computacionais. Um grafo computacional é uma representação gráfica de uma sequência de operações matemáticas, onde:\n",
        "\n",
        "- **Nós (nodes)** representam operações matemáticas ou variáveis.\n",
        "- **Arestas (edges)** representam os fluxos de dados (tensores) entre as operações.\n",
        "\n",
        "![alt text](https://miro.medium.com/max/908/1*ahiviCqq6B0R_XWBmgvHkA.png \"Grafo Computacional\")\n",
        "\n",
        "Durante a construção de um modelo, as operações realizadas nos tensores criam um grafo computacional dinâmico, também conhecido como *Dynamic Computation Graph*. Esse grafo é dinâmico porque é construído à medida que as operações são executadas, permitindo flexibilidade e facilidade na criação e modificação de modelos.\n",
        "\n",
        "#### Propagação para Frente (Forward Pass)\n",
        "\n",
        "Durante a propagação para frente (forward pass), os tensores são passados através das operações definidas no grafo computacional, produzindo uma saída. Este processo é usado para calcular a perda (loss) do modelo.\n",
        "\n",
        "#### Propagação para Trás (Backward Pass)\n",
        "\n",
        "A propagação para trás (backward pass) é o processo de calcular os gradientes dos tensores em relação à perda, utilizando a regra da cadeia. O autograd facilita essa tarefa, realizando automaticamente a diferenciação reversa ao longo do grafo computacional. Os passos são:\n",
        "\n",
        "1. **Calcula a perda**: A partir das saídas do forward pass.\n",
        "2. **Calcula os gradientes**: Utilizando a diferenciação automática.\n",
        "3. **Atualiza os parâmetros**: Os gradientes calculados são usados para ajustar os parâmetros do modelo através de otimização, como o gradiente descendente."
      ]
    },
    {
      "cell_type": "markdown",
      "metadata": {
        "id": "MODohjuu1jSZ"
      },
      "source": [
        "### Criando Tensores com `requires_grad`\n",
        "\n",
        "Vamos criar tensores com a propriedade `requires_grad` definida como `True`:"
      ]
    },
    {
      "cell_type": "code",
      "execution_count": null,
      "metadata": {
        "id": "QQTn-NrM1jSZ",
        "colab": {
          "base_uri": "https://localhost:8080/"
        },
        "outputId": "47a42c60-16b1-4046-e7a0-a32faad27be2"
      },
      "outputs": [
        {
          "output_type": "stream",
          "name": "stdout",
          "text": [
            "tensor([1., 2., 3.], requires_grad=True)\n"
          ]
        }
      ],
      "source": [
        "# Tensor com requires_grad\n",
        "x = torch.tensor([1.0, 2.0, 3.0], requires_grad=True)\n",
        "print(x)"
      ]
    },
    {
      "cell_type": "markdown",
      "metadata": {
        "id": "zCQaj--t1jSZ"
      },
      "source": [
        "### Realizando Operações com Tensores que Têm `requires_grad`\n",
        "\n",
        "Quando realizamos operações com tensores que têm `requires_grad=True`, o PyTorch cria uma tape (fita) para rastrear todas as operações. Vamos ver um exemplo:"
      ]
    },
    {
      "cell_type": "code",
      "execution_count": null,
      "metadata": {
        "id": "LrGyYrQs1jSZ",
        "colab": {
          "base_uri": "https://localhost:8080/"
        },
        "outputId": "cf5ed4c9-f5f0-43de-f455-62220b76479e"
      },
      "outputs": [
        {
          "output_type": "stream",
          "name": "stdout",
          "text": [
            "tensor(14., grad_fn=<SumBackward0>)\n"
          ]
        }
      ],
      "source": [
        "# Realiza uma operação com o tensor x\n",
        "y = x ** 2\n",
        "\n",
        "# Mais uma operação\n",
        "z = y.sum()\n",
        "\n",
        "print(z)"
      ]
    },
    {
      "cell_type": "markdown",
      "metadata": {
        "id": "bS8X-tGT1jSZ"
      },
      "source": [
        "### Calculando Gradientes\n",
        "\n",
        "Para calcular os gradientes, usamos o método `backward()`. Isso calcula o gradiente da função de perda em relação a todos os tensores que têm `requires_grad=True`.\n",
        "\n",
        "Os gradientes armazenados em `x.grad` representam a derivada da soma `z` em relação a `x`. Como `z` é a soma dos elementos de `y` e `y = x ** 2`, a derivada de `z` em relação a `x` é `2 * x`."
      ]
    },
    {
      "cell_type": "code",
      "execution_count": null,
      "metadata": {
        "id": "eoamY49o1jSa",
        "colab": {
          "base_uri": "https://localhost:8080/"
        },
        "outputId": "c3e52956-9aaf-4292-f23e-059f4aef55d6"
      },
      "outputs": [
        {
          "output_type": "stream",
          "name": "stdout",
          "text": [
            "tensor([2., 4., 6.])\n"
          ]
        }
      ],
      "source": [
        "# Calcula os gradientes\n",
        "z.backward()\n",
        "\n",
        "# z = x1² + x2² + x3²\n",
        "# dz/x1 = 2x1\n",
        "\n",
        "# Imprime os gradientes armazenados em x.grad\n",
        "print(x.grad)"
      ]
    },
    {
      "cell_type": "markdown",
      "metadata": {
        "id": "kK-kCql21jSa"
      },
      "source": [
        "### Desativando o Rastreamento de Gradientes\n",
        "\n",
        "Em algumas situações, não queremos rastrear as operações, como durante a inferência do modelo. Podemos desativar temporariamente o rastreamento de gradientes usando `torch.no_grad()` ou `detach()`. Vamos ver como:"
      ]
    },
    {
      "cell_type": "code",
      "execution_count": null,
      "metadata": {
        "id": "K-m_QWi21jSa",
        "colab": {
          "base_uri": "https://localhost:8080/"
        },
        "outputId": "551b2eea-ecdb-4651-8b48-2cc5dbb9dea5"
      },
      "outputs": [
        {
          "output_type": "stream",
          "name": "stdout",
          "text": [
            "False\n",
            "False\n"
          ]
        }
      ],
      "source": [
        "# Desativando o rastreamento de gradientes temporariamente\n",
        "with torch.no_grad():\n",
        "    y = x * 2\n",
        "    print(y.requires_grad)  # False, pois o rastreamento está desativado\n",
        "\n",
        "# Criando um novo tensor sem rastreamento de gradientes\n",
        "x_detached = x.detach()\n",
        "print(x_detached.requires_grad)  # False, pois o tensor foi separado da tape de computação"
      ]
    },
    {
      "cell_type": "markdown",
      "metadata": {
        "id": "HQOkfgz_1jSa"
      },
      "source": [
        "### Verificando se um Tensor Requer Gradiente\n",
        "\n",
        "Podemos verificar se um tensor requer gradiente usando a propriedade `requires_grad`:"
      ]
    },
    {
      "cell_type": "code",
      "execution_count": null,
      "metadata": {
        "id": "r_MNnJHJ1jSa",
        "colab": {
          "base_uri": "https://localhost:8080/"
        },
        "outputId": "1d5d9795-4386-4456-df20-78510995c0a4"
      },
      "outputs": [
        {
          "output_type": "stream",
          "name": "stdout",
          "text": [
            "True\n",
            "False\n"
          ]
        }
      ],
      "source": [
        "print(x.requires_grad)  # True, pois x foi criado com requires_grad=True\n",
        "print(x_detached.requires_grad)  # False, pois x_detached foi separado da tape de computação"
      ]
    },
    {
      "cell_type": "markdown",
      "metadata": {
        "id": "JeUIouKY1jSa"
      },
      "source": [
        "## Exercícios - PyTorch Básico"
      ]
    },
    {
      "cell_type": "markdown",
      "metadata": {
        "id": "4CnEc68-1jSa"
      },
      "source": [
        "### Exercício 1: Criação de Tensores\n",
        "\n",
        "1. Crie um tensor 1D com os valores de 1 a 10.\n",
        "2. Crie um tensor 2D de forma (3, 3) com valores aleatórios.\n",
        "3. Crie um tensor 3D de forma (2, 3, 4) com todos os valores iguais a 1.\n",
        "4. Crie um tensor de zeros com as mesmas dimensões do tensor 2D criado no exercício 2.\n",
        "5. Crie um tensor de uns com as mesmas dimensões do tensor 3D criado no exercício 3."
      ]
    },
    {
      "cell_type": "code",
      "execution_count": 59,
      "metadata": {
        "id": "iZNdSHji1jSb",
        "colab": {
          "base_uri": "https://localhost:8080/"
        },
        "outputId": "93bcc2a1-5aa0-43fb-ac3f-167293bd74ce"
      },
      "outputs": [
        {
          "output_type": "stream",
          "name": "stdout",
          "text": [
            "#1 - Tensor 1D com valores de 0 a 10:\n",
            " tensor([ 1,  2,  3,  4,  5,  6,  7,  8,  9, 10])\n",
            "\n",
            "#2 - Tensor 2D de forma (3,3) com valores aleatórios:\n",
            " tensor([[ 0.8966, -1.5610, -0.3473],\n",
            "        [ 0.8970, -0.2254,  1.9428],\n",
            "        [ 0.3565, -0.3640, -0.1957]])\n",
            "\n",
            "#3 - Tensor 3D de forma (2,3,4) com todos os valores iguais a 1: \n",
            "tensor([[[1, 1, 1, 1],\n",
            "         [1, 1, 1, 1],\n",
            "         [1, 1, 1, 1]],\n",
            "\n",
            "        [[1, 1, 1, 1],\n",
            "         [1, 1, 1, 1],\n",
            "         [1, 1, 1, 1]]], dtype=torch.uint8)\n",
            "\n",
            "#4 - Tensor de zeros com as mesmas dimensões do tensor 2D criado no exercício 2: \n",
            "tensor([[0., 0., 0.],\n",
            "        [0., 0., 0.],\n",
            "        [0., 0., 0.]])\n",
            "\n",
            "#5 - Tensor de uns com as mesmas dimensões do tensor 3D criado no exercício 3: \n",
            "tensor([[[1, 1, 1, 1],\n",
            "         [1, 1, 1, 1],\n",
            "         [1, 1, 1, 1]],\n",
            "\n",
            "        [[1, 1, 1, 1],\n",
            "         [1, 1, 1, 1],\n",
            "         [1, 1, 1, 1]]], dtype=torch.uint8)\n"
          ]
        }
      ],
      "source": [
        "# 1\n",
        "tensor1d = torch.arange(1, 11)\n",
        "print(f'#1 - Tensor 1D com valores de 0 a 10:\\n {tensor1d}')\n",
        "\n",
        "# 2\n",
        "tensor2d = torch.randn(3, 3)\n",
        "print(f'\\n#2 - Tensor 2D de forma (3,3) com valores aleatórios:\\n {tensor2d}')\n",
        "\n",
        "# 3\n",
        "tensor3d = torch.ones((2, 3, 4), dtype=torch.uint8)\n",
        "print(f'\\n#3 - Tensor 3D de forma (2,3,4) com todos os valores iguais a 1: \\n{tensor3d}')\n",
        "\n",
        "# 4\n",
        "tensor_0s = torch.zeros_like(tensor2d)\n",
        "print(f'\\n#4 - Tensor de zeros com as mesmas dimensões do tensor 2D criado no exercício 2: \\n{tensor_0s}')\n",
        "\n",
        "# 5\n",
        "tensor_1s = torch.ones_like(tensor3d)\n",
        "print(f'\\n#5 - Tensor de uns com as mesmas dimensões do tensor 3D criado no exercício 3: \\n{tensor_1s}')"
      ]
    },
    {
      "cell_type": "markdown",
      "metadata": {
        "id": "Vkca-pH21jSb"
      },
      "source": [
        "### Exercício 2: Manipulação de Tensores\n",
        "\n",
        "1. Dado o tensor `a = torch.tensor([[1, 2], [3, 4], [5, 6]])`, obtenha a primeira coluna.\n",
        "2. Dado o tensor `b = torch.tensor([[[1, 2, 3], [4, 5, 6]], [[7, 8, 9], [10, 11, 12]]])`, obtenha o subtensor `[[7, 8, 9], [10, 11, 12]]`.\n",
        "3. Dado o tensor `c = torch.tensor([1, 2, 3, 4, 5, 6])`, mude sua forma para (2, 3).\n",
        "4. Dado o tensor `d = torch.tensor([1, 2, 3, 4, 5, 6])`, adicione uma dimensão extra para que ele se torne de forma (1, 6)."
      ]
    },
    {
      "cell_type": "code",
      "execution_count": 75,
      "metadata": {
        "id": "DFOywOdp1jSb",
        "colab": {
          "base_uri": "https://localhost:8080/"
        },
        "outputId": "36ca200f-4bce-488a-e71d-62a57a5e4c10"
      },
      "outputs": [
        {
          "output_type": "stream",
          "name": "stdout",
          "text": [
            "#1 -\n",
            "Tensor a: \n",
            "tensor([[1, 2],\n",
            "        [3, 4],\n",
            "        [5, 6]])\n",
            "\n",
            "Primeira coluna do tensor a: \n",
            "tensor([1, 3, 5])\n",
            "\n",
            "#2 -\n",
            "Tensor b: \n",
            "tensor([[[ 1,  2,  3],\n",
            "         [ 4,  5,  6]],\n",
            "\n",
            "        [[ 7,  8,  9],\n",
            "         [10, 11, 12]]])\n",
            "\n",
            "Subtensor [[7, 8, 9], [10, 11, 12]] do tensor b: \n",
            "tensor([[ 7,  8,  9],\n",
            "        [10, 11, 12]])\n",
            "\n",
            "#3 -\n",
            "Tensor c: \n",
            "tensor([1, 2, 3, 4, 5, 6]) - Shape: torch.Size([6])\n",
            "\n",
            "Tensor c com forma (2, 3): \n",
            "tensor([[1, 2, 3],\n",
            "        [4, 5, 6]]) - Shape: torch.Size([2, 3])\n",
            "\n",
            "#4 -\n",
            "Tensor d: \n",
            "tensor([1, 2, 3, 4, 5, 6]) - Shape: torch.Size([6])\n",
            "\n",
            "Tensor d com forma (1, 6): \n",
            "tensor([[1, 2, 3, 4, 5, 6]]) - Shape: torch.Size([1, 6])\n"
          ]
        }
      ],
      "source": [
        "tensor_a = torch.tensor([[1, 2], [3, 4], [5, 6]])\n",
        "print(\"#1 -\")\n",
        "print(f'Tensor a: \\n{tensor_a}')\n",
        "print(f'\\nPrimeira coluna do tensor a: \\n{tensor_a[:, 0]}')\n",
        "\n",
        "tensor_b = torch.tensor([[[1, 2, 3], [4, 5, 6]], [[7, 8, 9], [10, 11, 12]]])\n",
        "print('\\n#2 -')\n",
        "print(f'Tensor b: \\n{tensor_b}')\n",
        "print(f'\\nSubtensor [[7, 8, 9], [10, 11, 12]] do tensor b: \\n{tensor_b[1, :, :]}')\n",
        "\n",
        "tensor_c = torch.tensor([1, 2, 3, 4, 5, 6])\n",
        "tensor_c_reshaped = tensor_c.reshape(2, 3)\n",
        "print('\\n#3 -')\n",
        "print(f'Tensor c: \\n{tensor_c} - Shape: {tensor_c.shape}')\n",
        "print(f'\\nTensor c com forma (2, 3): \\n{tensor_c_reshaped} - Shape: {tensor_c_reshaped.shape}')\n",
        "\n",
        "tensor_d = torch.tensor([1, 2, 3, 4, 5, 6])\n",
        "tensor_d_squeezed = tensor_d.unsqueeze(dim=0)\n",
        "print('\\n#4 -')\n",
        "print(f'Tensor d: \\n{tensor_d} - Shape: {tensor_d.shape}')\n",
        "print(f'\\nTensor d com forma (1, 6): \\n{tensor_d_squeezed} - Shape: {tensor_d_squeezed.shape}')"
      ]
    },
    {
      "cell_type": "markdown",
      "metadata": {
        "id": "LaHca-uR1jSb"
      },
      "source": [
        "### Exercício 3: Funções de Criação de Tensores\n",
        "\n",
        "1. Crie um tensor contendo valores de 0 a 1, espaçados igualmente em 5 passos.\n",
        "2. Crie um tensor contendo valores de 0 a 10, com um passo de 2.\n",
        "3. Crie um tensor de forma (3, 3) com valores aleatórios entre 0 e 10.\n",
        "4. Crie um tensor correspondente a uma imagem em escala de cinza de dimensões 128x128 com valores aleatórios entre 0 e 255.\n",
        "5. Crie um tensor correspondente a uma imagem em RGB de dimensões 128x128 com valores aleatórios entre 0 e 255."
      ]
    },
    {
      "cell_type": "code",
      "execution_count": 79,
      "metadata": {
        "id": "_X3WabNN1jSb",
        "colab": {
          "base_uri": "https://localhost:8080/"
        },
        "outputId": "5c7ac0fb-428f-46ff-ec3a-ef76391f4b35"
      },
      "outputs": [
        {
          "output_type": "stream",
          "name": "stdout",
          "text": [
            "#1 - Tensor contendo valores de 0 a 1, espaçados igualmente em 5 passos: \n",
            "tensor([0.0000, 0.2500, 0.5000, 0.7500, 1.0000])\n",
            "\n",
            "#2 - Tensor contendo valores de 0 a 10, com um passo de 2: \n",
            "tensor([0, 2, 4, 6, 8])\n",
            "\n",
            "#3 - Tensor de forma (3, 3) com valores aleatórios entre 0 e 10: \n",
            "tensor([[2, 4, 1],\n",
            "        [0, 8, 6],\n",
            "        [6, 4, 8]])\n",
            "\n",
            "#4 - Tensor correspondente a uma imagem em escala de cinza de dimensões 128x128 com valores aleatórios entre 0 e 255: \n",
            "tensor([[142, 178, 144,  ...,   3,  64, 241],\n",
            "        [ 35, 134, 103,  ..., 162, 124,  66],\n",
            "        [224, 159, 125,  ...,  87,  31, 241],\n",
            "        ...,\n",
            "        [ 80, 240, 217,  ...,  57, 132, 153],\n",
            "        [134,  72, 201,  ...,  18, 182,  71],\n",
            "        [152, 120,   4,  ...,  11, 244, 123]])\n",
            "Shape: torch.Size([128, 128])\n",
            "\n",
            "#5 - Tensor correspondente a uma imagem em RGB de dimensões 128x128 com valores aleatórios entre 0 e 255: \n",
            "tensor([[[ 29,   5,  81],\n",
            "         [103, 150, 158],\n",
            "         [226,  89, 250],\n",
            "         ...,\n",
            "         [225, 103,  97],\n",
            "         [163,  74, 196],\n",
            "         [118,  89, 246]],\n",
            "\n",
            "        [[ 31,  44, 204],\n",
            "         [ 15, 101,  16],\n",
            "         [ 10, 170, 236],\n",
            "         ...,\n",
            "         [ 27, 142,  85],\n",
            "         [ 83, 164,  98],\n",
            "         [142,  47, 248]],\n",
            "\n",
            "        [[104,   7, 206],\n",
            "         [ 29, 149,  64],\n",
            "         [ 44,  31,  43],\n",
            "         ...,\n",
            "         [254, 247,  50],\n",
            "         [ 51,  29,  10],\n",
            "         [171, 196, 153]],\n",
            "\n",
            "        ...,\n",
            "\n",
            "        [[176, 244,  91],\n",
            "         [ 62, 235,  65],\n",
            "         [236,  16, 240],\n",
            "         ...,\n",
            "         [225, 140, 249],\n",
            "         [ 49, 112,  36],\n",
            "         [240, 194,  23]],\n",
            "\n",
            "        [[144, 237,  10],\n",
            "         [179, 117,  90],\n",
            "         [217,   9,  91],\n",
            "         ...,\n",
            "         [170,  43, 184],\n",
            "         [109, 254,  50],\n",
            "         [ 91, 223,  93]],\n",
            "\n",
            "        [[ 39, 113, 111],\n",
            "         [122, 225,   5],\n",
            "         [189,  65, 216],\n",
            "         ...,\n",
            "         [166,  27, 217],\n",
            "         [233,  75, 255],\n",
            "         [175, 252,  15]]])\n",
            "Shape: torch.Size([128, 128, 3])\n"
          ]
        }
      ],
      "source": [
        "tensor1 = torch.linspace(0, 1, steps=5)\n",
        "print(f'#1 - Tensor contendo valores de 0 a 1, espaçados igualmente em 5 passos: \\n{tensor1}')\n",
        "\n",
        "tensor2 = torch.arange(0, 10, step=2)\n",
        "print(f'\\n#2 - Tensor contendo valores de 0 a 10, com um passo de 2: \\n{tensor2}')\n",
        "\n",
        "tensor3 = torch.randint(0, 10, size=(3, 3))\n",
        "print(f'\\n#3 - Tensor de forma (3, 3) com valores aleatórios entre 0 e 10: \\n{tensor3}')\n",
        "\n",
        "tensor4 = torch.randint(0, 256, size=(128, 128))\n",
        "print(f'\\n#4 - Tensor correspondente a uma imagem em escala de cinza de dimensões 128x128 com valores aleatórios entre 0 e 255: \\n{tensor4}')\n",
        "print(f'Shape: {tensor4.shape}')\n",
        "\n",
        "tensor5 = torch.randint(0, 256, size=(128, 128, 3))\n",
        "print(f'\\n#5 - Tensor correspondente a uma imagem em RGB de dimensões 128x128 com valores aleatórios entre 0 e 255: \\n{tensor5}')\n",
        "print(f'Shape: {tensor5.shape}')"
      ]
    },
    {
      "cell_type": "markdown",
      "metadata": {
        "id": "cxxsjwpv1jSb"
      },
      "source": [
        "### Exercício 4: Operações Avançadas com Tensores\n",
        "\n",
        "1. Dado o tensor `a = torch.tensor([1, 2, 3])` e `b = torch.tensor([[4], [5], [6]])`, calcule a soma de `a` e `b` usando broadcasting.\n",
        "2. Dado o tensor `a = torch.tensor([1.0, 2.0, 3.0, 4.0])`, calcule a soma de todos os elementos.\n",
        "3. Dado o tensor `a = torch.tensor([1.0, 2.0, 3.0, 4.0])`, calcule a média de todos os elementos.\n",
        "4. Dado o tensor `a = torch.tensor([1.0, 2.0, 3.0, 4.0])`, calcule a raiz quadrada de todos os elementos."
      ]
    },
    {
      "cell_type": "code",
      "execution_count": 86,
      "metadata": {
        "id": "n3mWESN81jSc",
        "colab": {
          "base_uri": "https://localhost:8080/"
        },
        "outputId": "b608cd20-198a-43c3-e998-bba1f5f9ee0d"
      },
      "outputs": [
        {
          "output_type": "stream",
          "name": "stdout",
          "text": [
            "#1 -\n",
            "Tensor a: \n",
            "tensor([1, 2, 3])\n",
            "\n",
            "Tensor b: \n",
            "tensor([[4],\n",
            "        [5],\n",
            "        [6]])\n",
            "\n",
            "Tensor a + b: \n",
            "tensor([[5, 6, 7],\n",
            "        [6, 7, 8],\n",
            "        [7, 8, 9]])\n",
            "\n",
            "#2 -\n",
            "Tensor a: \n",
            "tensor([1., 2., 3., 4.])\n",
            "\n",
            "Soma de todos os elementos do tensor a: \n",
            "10.0\n",
            "\n",
            "#3 -\n",
            "Tensor a: \n",
            "tensor([1., 2., 3., 4.])\n",
            "\n",
            "Média de todos os elementos do tensor a: \n",
            "2.5\n",
            "\n",
            "#4 -\n",
            "Tensor a: \n",
            "tensor([1., 2., 3., 4.])\n",
            "\n",
            "Raiz quadrada de todos os elementos do tensor a: \n",
            "tensor([1.0000, 1.4142, 1.7321, 2.0000])\n"
          ]
        }
      ],
      "source": [
        "tensor_a = torch.tensor([1, 2, 3])\n",
        "tensor_b = torch.tensor([[4], [5], [6]])\n",
        "tensor_sum_ab = tensor_a + tensor_b\n",
        "print(\"#1 -\")\n",
        "print(f'Tensor a: \\n{tensor_a}')\n",
        "print(f'\\nTensor b: \\n{tensor_b}')\n",
        "print(f'\\nTensor a + b: \\n{tensor_sum_ab}')\n",
        "\n",
        "tensor_a = torch.tensor([1.0, 2.0, 3.0, 4.0])\n",
        "tensor_a_sum = torch.sum(tensor_a)\n",
        "print('\\n#2 -')\n",
        "print(f'Tensor a: \\n{tensor_a}')\n",
        "print(f'\\nSoma de todos os elementos do tensor a: \\n{tensor_a_sum.item()}')\n",
        "\n",
        "tensor_a_mean = torch.mean(tensor_a)\n",
        "print('\\n#3 -')\n",
        "print(f'Tensor a: \\n{tensor_a}')\n",
        "print(f'\\nMédia de todos os elementos do tensor a: \\n{tensor_a_mean.item()}')\n",
        "\n",
        "tensor_a_sqrt = torch.sqrt(tensor_a)\n",
        "print('\\n#4 -')\n",
        "print(f'Tensor a: \\n{tensor_a}')\n",
        "print(f'\\nRaiz quadrada de todos os elementos do tensor a: \\n{tensor_a_sqrt}')"
      ]
    },
    {
      "cell_type": "markdown",
      "metadata": {
        "id": "XdgzTgrY1jSc"
      },
      "source": [
        "### Exercício 5: Autograd e Backpropagation\n",
        "\n",
        "1. Crie um tensor `x` com os valores `[2.0, 3.0]` e `requires_grad=True`. Calcule `y = x^2` e os gradientes.\n",
        "2. Crie um tensor `x` com o valor `3.0` e `requires_grad=True`. Calcule `y = 2*x + 1` e o gradiente.\n",
        "3. Crie um tensor `x` com os valores `[1.0, 2.0, 3.0]` e `requires_grad=True`. Calcule `y = x^3` e os gradientes."
      ]
    },
    {
      "cell_type": "code",
      "execution_count": 108,
      "metadata": {
        "id": "zGLwWrOi1jSc",
        "colab": {
          "base_uri": "https://localhost:8080/"
        },
        "outputId": "4343ec03-9955-4e7b-8d68-30f0f25ea397"
      },
      "outputs": [
        {
          "output_type": "stream",
          "name": "stdout",
          "text": [
            "#1 -\n",
            "Tensor x: tensor([2., 3.], requires_grad=True)\n",
            "Tensor y (y = x^2): tensor([4., 9.], grad_fn=<PowBackward0>)\n",
            "Gradiente de y em relação a x: tensor([4., 6.])\n",
            "\n",
            "#2 -\n",
            "Tensor x: 3.0\n",
            "Tensor y (y = 2x + 1): 7.0\n",
            "Gradiente de y em relação a x: 2.0\n",
            "\n",
            "#3 -\n",
            "Tensor x: tensor([1., 2., 3.], requires_grad=True)\n",
            "Tensor y (y = x^3): tensor([ 1.,  8., 27.], grad_fn=<PowBackward0>)\n",
            "Gradiente de y em relação a x: tensor([ 3., 12., 27.])\n"
          ]
        }
      ],
      "source": [
        "tensor_x = torch.tensor([2.0, 3.0], requires_grad=True)\n",
        "tensor_y = tensor_x ** 2\n",
        "tensor_y.backward(torch.ones_like(tensor_y)) # cálculo do gradiente\n",
        "print(\"#1 -\")\n",
        "print(f'Tensor x: {tensor_x}')\n",
        "print(f'Tensor y (y = x^2): {tensor_y}')\n",
        "print(f'Gradiente de y em relação a x: {tensor_x.grad}')\n",
        "\n",
        "tensor_x = torch.tensor(3.0, requires_grad=True)\n",
        "tensor_y = 2 * tensor_x + 1\n",
        "tensor_y.backward()\n",
        "print('\\n#2 -')\n",
        "print(f'Tensor x: {tensor_x}')\n",
        "print(f'Tensor y (y = 2x + 1): {tensor_y}')\n",
        "print(f'Gradiente de y em relação a x: {tensor_x.grad}')\n",
        "\n",
        "tensor_x = torch.tensor([1.0, 2.0, 3.0], requires_grad=True)\n",
        "tensor_y = tensor_x ** 3\n",
        "tensor_y.sum().backward() # outra forma de calcular o gradiente para vetores (tamanho implícito)\n",
        "print('\\n#3 -')\n",
        "print(f'Tensor x: {tensor_x}')\n",
        "print(f'Tensor y (y = x^3): {tensor_y}')\n",
        "print(f'Gradiente de y em relação a x: {tensor_x.grad}')"
      ]
    },
    {
      "cell_type": "markdown",
      "metadata": {
        "id": "mzrjf_I61jSc"
      },
      "source": [
        "### Exercício 6: Operações de Redução\n",
        "\n",
        "1. Crie um tensor de forma (4, 5) contendo valores de 1 a 20 usando `torch.arange`. Em seguida, calcule a soma de todos os elementos do tensor.\n",
        "\n",
        "2. Crie um tensor de forma (3, 4) com valores aleatórios entre 0 e 1 usando `torch.rand`. Calcule a média dos elementos ao longo do eixo 1 (colunas).\n",
        "\n",
        "3. Crie um tensor de forma (5, 5) contendo valores espaçados igualmente de 0 a 24 usando `torch.linspace`. Encontre o valor mínimo e o máximo de todos os elementos do tensor.\n",
        "\n",
        "4. Crie um tensor de forma (3, 6) com valores inteiros aleatórios entre 10 e 50 usando `torch.randint`. Calcule o produto dos elementos ao longo do eixo 0 (linhas).\n",
        "\n",
        "5. Crie um tensor de forma (2, 3, 4) com valores aleatórios entre 0 e 1 usando `torch.rand`. Encontre a soma dos elementos ao longo do eixo 2."
      ]
    },
    {
      "cell_type": "code",
      "execution_count": 129,
      "metadata": {
        "id": "n-fk3V3J1jSc",
        "colab": {
          "base_uri": "https://localhost:8080/"
        },
        "outputId": "8919577c-1c32-4966-9806-c434a47f56db"
      },
      "outputs": [
        {
          "output_type": "stream",
          "name": "stdout",
          "text": [
            "#1 -\n",
            "Tensor 1: \n",
            "tensor([[ 1,  2,  3,  4,  5],\n",
            "        [ 6,  7,  8,  9, 10],\n",
            "        [11, 12, 13, 14, 15],\n",
            "        [16, 17, 18, 19, 20]]) - Shape: torch.Size([4, 5])\n",
            "\n",
            "Soma de todos os elementos do tensor 1: 210\n",
            "\n",
            "#2 -\n",
            "Tensor 2: \n",
            "tensor([[0.3531, 0.8521, 0.2990, 0.7651],\n",
            "        [0.3325, 0.5169, 0.1703, 0.9171],\n",
            "        [0.9806, 0.0819, 0.8495, 0.9091]]) - Shape: torch.Size([3, 4])\n",
            "\n",
            "Média dos elementos do tensor 2 ao longo do eixo 1 (colunas): tensor([0.5673, 0.4842, 0.7053])\n",
            "\n",
            "#3 -\n",
            "Tensor 3: \n",
            "tensor([[ 0.,  1.,  2.,  3.,  4.],\n",
            "        [ 5.,  6.,  7.,  8.,  9.],\n",
            "        [10., 11., 12., 13., 14.],\n",
            "        [15., 16., 17., 18., 19.],\n",
            "        [20., 21., 22., 23., 24.]]) - Shape: torch.Size([5, 5])\n",
            "\n",
            "Valor mínimo do tensor 3: 0.0\n",
            "Valor máximo do tensor 3: 24.0\n",
            "\n",
            "#4 -\n",
            "Tensor 4: \n",
            "tensor([[16, 30, 35, 39, 11, 45],\n",
            "        [28, 11, 25, 42, 13, 34],\n",
            "        [12, 39, 30, 14, 47, 48]]) - Shape: torch.Size([3, 6])\n",
            "\n",
            "Produto dos elementos do tensor 4 ao longo do eixo 0 (linhas): tensor([ 5376, 12870, 26250, 22932,  6721, 73440])\n",
            "\n",
            "#5 -\n",
            "Tensor 5: \n",
            "tensor([[[0.4876, 0.3843, 0.9711, 0.1307],\n",
            "         [0.9231, 0.2829, 0.0391, 0.9196],\n",
            "         [0.8381, 0.3774, 0.0679, 0.6129]],\n",
            "\n",
            "        [[0.4820, 0.9782, 0.4103, 0.0579],\n",
            "         [0.7869, 0.7335, 0.4886, 0.6216],\n",
            "         [0.8901, 0.2316, 0.3738, 0.0600]]]) - Shape: torch.Size([2, 3, 4])\n",
            "\n",
            "Soma dos elementos do tensor 5 ao longo do eixo 2: \n",
            "tensor([[1.9737, 2.1647, 1.8963],\n",
            "        [1.9284, 2.6306, 1.5556]])\n"
          ]
        }
      ],
      "source": [
        "tensor1 = torch.arange(1, 21).reshape(4, 5)\n",
        "tensor1_sum = torch.sum(tensor1)\n",
        "print(\"#1 -\")\n",
        "print(f'Tensor 1: \\n{tensor1} - Shape: {tensor1.shape}')\n",
        "print(f'\\nSoma de todos os elementos do tensor 1: {tensor1_sum}')\n",
        "\n",
        "tensor2 = torch.rand(3,4)\n",
        "tensor2_mean = torch.mean(tensor2, dim=1)\n",
        "print('\\n#2 -')\n",
        "print(f'Tensor 2: \\n{tensor2} - Shape: {tensor2.shape}')\n",
        "print(f'\\nMédia dos elementos do tensor 2 ao longo do eixo 1 (colunas): {tensor2_mean}')\n",
        "\n",
        "tensor3 = torch.linspace(0, 24, steps=25).reshape(5, 5)\n",
        "tensor3_min, tensor3_max = torch.min(tensor3), torch.max(tensor3)\n",
        "print('\\n#3 -')\n",
        "print(f'Tensor 3: \\n{tensor3} - Shape: {tensor3.shape}')\n",
        "print(f'\\nValor mínimo do tensor 3: {tensor3_min}')\n",
        "print(f'Valor máximo do tensor 3: {tensor3_max}')\n",
        "\n",
        "tensor4 = torch.randint(10, 50, size=(3, 6))\n",
        "tensor4_prod = torch.prod(tensor4, dim=0)\n",
        "print('\\n#4 -')\n",
        "print(f'Tensor 4: \\n{tensor4} - Shape: {tensor4.shape}')\n",
        "print(f'\\nProduto dos elementos do tensor 4 ao longo do eixo 0 (linhas): {tensor4_prod}')\n",
        "\n",
        "tensor5 = torch.rand(2, 3, 4)\n",
        "tensor5_sum = torch.sum(tensor5, dim=2)\n",
        "print('\\n#5 -')\n",
        "print(f'Tensor 5: \\n{tensor5} - Shape: {tensor5.shape}')\n",
        "print(f'\\nSoma dos elementos do tensor 5 ao longo do eixo 2: \\n{tensor5_sum}')"
      ]
    }
  ],
  "metadata": {
    "kernelspec": {
      "display_name": "base",
      "language": "python",
      "name": "python3"
    },
    "language_info": {
      "codemirror_mode": {
        "name": "ipython",
        "version": 3
      },
      "file_extension": ".py",
      "mimetype": "text/x-python",
      "name": "python",
      "nbconvert_exporter": "python",
      "pygments_lexer": "ipython3",
      "version": "3.10.13"
    },
    "colab": {
      "provenance": []
    }
  },
  "nbformat": 4,
  "nbformat_minor": 0
}